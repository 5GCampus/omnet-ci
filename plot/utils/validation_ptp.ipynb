{
 "cells": [
  {
   "cell_type": "markdown",
   "id": "066dbe8c-99bb-4b6e-818b-1642b6128a51",
   "metadata": {},
   "source": [
    "# PTP Measurements\n",
    "- copy data from measurement node to hp-workstation for evaluation\n",
    "- e.g., use command:\n",
    "```shell\n",
    "rsync -aP node2:/home/ubuntu/ptp/measurement/json/ /home/arch/validation_paper/ptp/measurements/\n",
    "```"
   ]
  },
  {
   "cell_type": "code",
   "execution_count": 1,
   "id": "aa5c2c28-a3b1-49be-96ec-ffc8323d4af9",
   "metadata": {
    "execution": {
     "iopub.execute_input": "2023-05-08T08:41:33.283212Z",
     "iopub.status.busy": "2023-05-08T08:41:33.282950Z",
     "iopub.status.idle": "2023-05-08T08:41:34.259871Z",
     "shell.execute_reply": "2023-05-08T08:41:34.259268Z",
     "shell.execute_reply.started": "2023-05-08T08:41:33.283194Z"
    },
    "tags": []
   },
   "outputs": [],
   "source": [
    "from os import listdir\n",
    "from json import loads\n",
    "from pandas import DataFrame, concat, melt\n",
    "import matplotlib.pyplot as plt\n",
    "import seaborn as sns\n",
    "from matplotlib.cbook import boxplot_stats"
   ]
  },
  {
   "cell_type": "code",
   "execution_count": 2,
   "id": "c587bf89-4cac-4a79-8b55-064b2a8969b8",
   "metadata": {
    "execution": {
     "iopub.execute_input": "2023-05-08T08:41:34.261149Z",
     "iopub.status.busy": "2023-05-08T08:41:34.260790Z",
     "iopub.status.idle": "2023-05-08T08:41:34.265275Z",
     "shell.execute_reply": "2023-05-08T08:41:34.264673Z",
     "shell.execute_reply.started": "2023-05-08T08:41:34.261131Z"
    },
    "tags": []
   },
   "outputs": [],
   "source": [
    "PATH = \"/home/arch/validation_paper/ptp/measurements\""
   ]
  },
  {
   "cell_type": "code",
   "execution_count": 3,
   "id": "cbe08529-1ea4-43e3-b0e2-32da75877e2b",
   "metadata": {
    "execution": {
     "iopub.execute_input": "2023-05-08T08:41:34.759667Z",
     "iopub.status.busy": "2023-05-08T08:41:34.759408Z",
     "iopub.status.idle": "2023-05-08T08:41:34.763641Z",
     "shell.execute_reply": "2023-05-08T08:41:34.763112Z",
     "shell.execute_reply.started": "2023-05-08T08:41:34.759650Z"
    },
    "tags": []
   },
   "outputs": [],
   "source": [
    "def read_files():\n",
    "    files = {\"Kontron\": [],\n",
    "             \"FibroLAN\": []}\n",
    "    for f in sorted(listdir(PATH)):\n",
    "        if \"json\" in f:\n",
    "            if \"Kontron\" in f:\n",
    "                files[\"Kontron\"].append(\"{}/{}\".format(PATH, f))\n",
    "            elif \"FibroLAN\" in f:\n",
    "                files[\"FibroLAN\"].append(\"{}/{}\".format(PATH, f))\n",
    "    return files"
   ]
  },
  {
   "cell_type": "code",
   "execution_count": 4,
   "id": "ed485e6c-b16e-4f9f-a16c-4dc0ac2ddf96",
   "metadata": {
    "execution": {
     "iopub.execute_input": "2023-05-08T08:41:35.249525Z",
     "iopub.status.busy": "2023-05-08T08:41:35.249266Z",
     "iopub.status.idle": "2023-05-08T08:41:35.254678Z",
     "shell.execute_reply": "2023-05-08T08:41:35.254145Z",
     "shell.execute_reply.started": "2023-05-08T08:41:35.249508Z"
    },
    "tags": []
   },
   "outputs": [],
   "source": [
    "def get_ptp_messages(file, tuple_=True):\n",
    "    json = []\n",
    "    for line in open(file, 'r'):\n",
    "        json.append(loads(line))\n",
    "    ptp = {}\n",
    "    ptp[\"CLK_offset_raw\"] = []\n",
    "    ptp[\"PATH_delay_raw\"] = []\n",
    "    ptp[\"CLK_freq_raw\"] = []\n",
    "\n",
    "    for j in json:\n",
    "        msg = j[\"MESSAGE\"]\n",
    "        if \"CLK_offset_raw\" in msg:\n",
    "            msg = msg.rsplit(\"CLK_offset_raw\")\n",
    "            ts = float(msg[0][1:-2])\n",
    "            value = float(msg[1])\n",
    "            if tuple_:\n",
    "                ptp[\"CLK_offset_raw\"].append((ts, value))\n",
    "            else:\n",
    "                ptp[\"CLK_offset_raw\"].append(value)\n",
    "        if \"PATH_delay_raw\" in msg:\n",
    "            msg = msg.rsplit(\"PATH_delay_raw\")\n",
    "            ts = float(msg[0][1:-2])\n",
    "            value = float(msg[1])\n",
    "            if tuple_:\n",
    "                ptp[\"PATH_delay_raw\"].append((ts, value))\n",
    "            else:\n",
    "                ptp[\"PATH_delay_raw\"].append(value)\n",
    "\n",
    "    # afterwards, free memory:\n",
    "    del json\n",
    "\n",
    "    return ptp"
   ]
  },
  {
   "cell_type": "code",
   "execution_count": 5,
   "id": "33e6696c-ecff-486e-94eb-f22ddb3c8b33",
   "metadata": {
    "execution": {
     "iopub.execute_input": "2023-05-08T08:41:36.205572Z",
     "iopub.status.busy": "2023-05-08T08:41:36.205315Z",
     "iopub.status.idle": "2023-05-08T08:41:59.870527Z",
     "shell.execute_reply": "2023-05-08T08:41:59.869833Z",
     "shell.execute_reply.started": "2023-05-08T08:41:36.205555Z"
    },
    "tags": []
   },
   "outputs": [],
   "source": [
    "files = read_files()\n",
    "\n",
    "column_names = [\"8\", \"16\", \"32\", \"64\", \"128\"]\n",
    "\n",
    "dfs = {}\n",
    "\n",
    "for switch, switch_files in files.items():\n",
    "    dfs_temp = []\n",
    "    for f, c in zip(switch_files, column_names):\n",
    "        ptp = get_ptp_messages(f, tuple_=False)\n",
    "        if len(ptp[\"CLK_offset_raw\"]) > 0:\n",
    "            df = DataFrame(ptp[\"CLK_offset_raw\"], columns=[\"{}\".format(c)])\n",
    "            dfs_temp.append(df)\n",
    "    df_switch = concat(dfs_temp, axis=1).assign(Switch=switch)\n",
    "    dfs[switch] = df_switch\n",
    "\n",
    "    del dfs_temp\n",
    "    del df_switch\n",
    "\n",
    "c = concat(dfs)\n",
    "mdf = melt(c, id_vars=['Switch'], var_name=['SyncInterval'])"
   ]
  },
  {
   "cell_type": "code",
   "execution_count": 6,
   "id": "a5e9b29c-e00e-4380-af0a-e0b730feae8c",
   "metadata": {
    "execution": {
     "iopub.execute_input": "2023-05-08T08:41:59.872052Z",
     "iopub.status.busy": "2023-05-08T08:41:59.871707Z",
     "iopub.status.idle": "2023-05-08T08:41:59.925709Z",
     "shell.execute_reply": "2023-05-08T08:41:59.925216Z",
     "shell.execute_reply.started": "2023-05-08T08:41:59.872028Z"
    },
    "tags": []
   },
   "outputs": [
    {
     "data": {
      "text/html": [
       "<div>\n",
       "<style scoped>\n",
       "    .dataframe tbody tr th:only-of-type {\n",
       "        vertical-align: middle;\n",
       "    }\n",
       "\n",
       "    .dataframe tbody tr th {\n",
       "        vertical-align: top;\n",
       "    }\n",
       "\n",
       "    .dataframe thead th {\n",
       "        text-align: right;\n",
       "    }\n",
       "</style>\n",
       "<table border=\"1\" class=\"dataframe\">\n",
       "  <thead>\n",
       "    <tr style=\"text-align: right;\">\n",
       "      <th></th>\n",
       "      <th>8</th>\n",
       "      <th>16</th>\n",
       "      <th>32</th>\n",
       "      <th>64</th>\n",
       "      <th>128</th>\n",
       "    </tr>\n",
       "  </thead>\n",
       "  <tbody>\n",
       "    <tr>\n",
       "      <th>count</th>\n",
       "      <td>25100.000000</td>\n",
       "      <td>47411.000000</td>\n",
       "      <td>85340.000000</td>\n",
       "      <td>142233.000000</td>\n",
       "      <td>213350.000000</td>\n",
       "    </tr>\n",
       "    <tr>\n",
       "      <th>mean</th>\n",
       "      <td>0.008725</td>\n",
       "      <td>-0.005758</td>\n",
       "      <td>-0.003609</td>\n",
       "      <td>-0.004936</td>\n",
       "      <td>-0.002962</td>\n",
       "    </tr>\n",
       "    <tr>\n",
       "      <th>std</th>\n",
       "      <td>3.552440</td>\n",
       "      <td>3.476159</td>\n",
       "      <td>3.404426</td>\n",
       "      <td>3.370978</td>\n",
       "      <td>3.351997</td>\n",
       "    </tr>\n",
       "    <tr>\n",
       "      <th>min</th>\n",
       "      <td>-11.000000</td>\n",
       "      <td>-11.000000</td>\n",
       "      <td>-10.000000</td>\n",
       "      <td>-11.000000</td>\n",
       "      <td>-10.000000</td>\n",
       "    </tr>\n",
       "    <tr>\n",
       "      <th>25%</th>\n",
       "      <td>-2.000000</td>\n",
       "      <td>-2.000000</td>\n",
       "      <td>-2.000000</td>\n",
       "      <td>-2.000000</td>\n",
       "      <td>-2.000000</td>\n",
       "    </tr>\n",
       "    <tr>\n",
       "      <th>50%</th>\n",
       "      <td>0.000000</td>\n",
       "      <td>0.000000</td>\n",
       "      <td>0.000000</td>\n",
       "      <td>0.000000</td>\n",
       "      <td>0.000000</td>\n",
       "    </tr>\n",
       "    <tr>\n",
       "      <th>75%</th>\n",
       "      <td>3.000000</td>\n",
       "      <td>2.000000</td>\n",
       "      <td>2.000000</td>\n",
       "      <td>2.000000</td>\n",
       "      <td>2.000000</td>\n",
       "    </tr>\n",
       "    <tr>\n",
       "      <th>max</th>\n",
       "      <td>10.000000</td>\n",
       "      <td>11.000000</td>\n",
       "      <td>10.000000</td>\n",
       "      <td>10.000000</td>\n",
       "      <td>10.000000</td>\n",
       "    </tr>\n",
       "  </tbody>\n",
       "</table>\n",
       "</div>"
      ],
      "text/plain": [
       "                  8            16            32             64            128\n",
       "count  25100.000000  47411.000000  85340.000000  142233.000000  213350.000000\n",
       "mean       0.008725     -0.005758     -0.003609      -0.004936      -0.002962\n",
       "std        3.552440      3.476159      3.404426       3.370978       3.351997\n",
       "min      -11.000000    -11.000000    -10.000000     -11.000000     -10.000000\n",
       "25%       -2.000000     -2.000000     -2.000000      -2.000000      -2.000000\n",
       "50%        0.000000      0.000000      0.000000       0.000000       0.000000\n",
       "75%        3.000000      2.000000      2.000000       2.000000       2.000000\n",
       "max       10.000000     11.000000     10.000000      10.000000      10.000000"
      ]
     },
     "execution_count": 6,
     "metadata": {},
     "output_type": "execute_result"
    }
   ],
   "source": [
    "dfs[\"Kontron\"].describe()"
   ]
  },
  {
   "cell_type": "code",
   "execution_count": 7,
   "id": "e597f6f8-796d-4c74-832d-3a53f40d3ad4",
   "metadata": {
    "execution": {
     "iopub.execute_input": "2023-05-08T08:41:59.926815Z",
     "iopub.status.busy": "2023-05-08T08:41:59.926425Z",
     "iopub.status.idle": "2023-05-08T08:41:59.973453Z",
     "shell.execute_reply": "2023-05-08T08:41:59.972863Z",
     "shell.execute_reply.started": "2023-05-08T08:41:59.926796Z"
    },
    "tags": []
   },
   "outputs": [
    {
     "data": {
      "text/html": [
       "<div>\n",
       "<style scoped>\n",
       "    .dataframe tbody tr th:only-of-type {\n",
       "        vertical-align: middle;\n",
       "    }\n",
       "\n",
       "    .dataframe tbody tr th {\n",
       "        vertical-align: top;\n",
       "    }\n",
       "\n",
       "    .dataframe thead th {\n",
       "        text-align: right;\n",
       "    }\n",
       "</style>\n",
       "<table border=\"1\" class=\"dataframe\">\n",
       "  <thead>\n",
       "    <tr style=\"text-align: right;\">\n",
       "      <th></th>\n",
       "      <th>8</th>\n",
       "      <th>16</th>\n",
       "      <th>32</th>\n",
       "      <th>64</th>\n",
       "      <th>128</th>\n",
       "    </tr>\n",
       "  </thead>\n",
       "  <tbody>\n",
       "    <tr>\n",
       "      <th>count</th>\n",
       "      <td>22590.000000</td>\n",
       "      <td>42670.000000</td>\n",
       "      <td>76805.000000</td>\n",
       "      <td>128008.000000</td>\n",
       "      <td>192012.000000</td>\n",
       "    </tr>\n",
       "    <tr>\n",
       "      <th>mean</th>\n",
       "      <td>0.016954</td>\n",
       "      <td>-0.005109</td>\n",
       "      <td>-0.002148</td>\n",
       "      <td>-0.002601</td>\n",
       "      <td>-0.000500</td>\n",
       "    </tr>\n",
       "    <tr>\n",
       "      <th>std</th>\n",
       "      <td>3.571289</td>\n",
       "      <td>3.456377</td>\n",
       "      <td>3.430982</td>\n",
       "      <td>3.394973</td>\n",
       "      <td>3.373903</td>\n",
       "    </tr>\n",
       "    <tr>\n",
       "      <th>min</th>\n",
       "      <td>-11.000000</td>\n",
       "      <td>-11.000000</td>\n",
       "      <td>-11.000000</td>\n",
       "      <td>-11.000000</td>\n",
       "      <td>-10.000000</td>\n",
       "    </tr>\n",
       "    <tr>\n",
       "      <th>25%</th>\n",
       "      <td>-2.000000</td>\n",
       "      <td>-2.000000</td>\n",
       "      <td>-2.000000</td>\n",
       "      <td>-2.000000</td>\n",
       "      <td>-2.000000</td>\n",
       "    </tr>\n",
       "    <tr>\n",
       "      <th>50%</th>\n",
       "      <td>0.000000</td>\n",
       "      <td>0.000000</td>\n",
       "      <td>0.000000</td>\n",
       "      <td>0.000000</td>\n",
       "      <td>0.000000</td>\n",
       "    </tr>\n",
       "    <tr>\n",
       "      <th>75%</th>\n",
       "      <td>2.000000</td>\n",
       "      <td>2.000000</td>\n",
       "      <td>2.000000</td>\n",
       "      <td>2.000000</td>\n",
       "      <td>2.000000</td>\n",
       "    </tr>\n",
       "    <tr>\n",
       "      <th>max</th>\n",
       "      <td>11.000000</td>\n",
       "      <td>10.000000</td>\n",
       "      <td>10.000000</td>\n",
       "      <td>11.000000</td>\n",
       "      <td>10.000000</td>\n",
       "    </tr>\n",
       "  </tbody>\n",
       "</table>\n",
       "</div>"
      ],
      "text/plain": [
       "                  8            16            32             64            128\n",
       "count  22590.000000  42670.000000  76805.000000  128008.000000  192012.000000\n",
       "mean       0.016954     -0.005109     -0.002148      -0.002601      -0.000500\n",
       "std        3.571289      3.456377      3.430982       3.394973       3.373903\n",
       "min      -11.000000    -11.000000    -11.000000     -11.000000     -10.000000\n",
       "25%       -2.000000     -2.000000     -2.000000      -2.000000      -2.000000\n",
       "50%        0.000000      0.000000      0.000000       0.000000       0.000000\n",
       "75%        2.000000      2.000000      2.000000       2.000000       2.000000\n",
       "max       11.000000     10.000000     10.000000      11.000000      10.000000"
      ]
     },
     "execution_count": 7,
     "metadata": {},
     "output_type": "execute_result"
    }
   ],
   "source": [
    "dfs[\"FibroLAN\"].describe()"
   ]
  },
  {
   "cell_type": "code",
   "execution_count": null,
   "id": "a2af42ed-bad8-404e-a0cb-1eabab6d04ab",
   "metadata": {
    "tags": []
   },
   "outputs": [],
   "source": [
    "for switch, df in dfs.items():\n",
    "    print(switch)\n",
    "\n",
    "    for c in column_names:\n",
    "        dataframe = df[c].dropna()\n",
    "\n",
    "        print(\"Setting: {} Sync Msg/s\".format(c))\n",
    "        print(dataframe.describe())\n",
    "        print(\"Median:\\t\\t\", dataframe.median())\n",
    "        print(\"p90%:\\t\\t\", dataframe.quantile(0.9))\n",
    "        print(\"p95%:\\t\\t\", dataframe.quantile(0.95))\n",
    "        print(\"p99%:\\t\\t\", dataframe.quantile(0.99))\n",
    "        print(\"p99.9%:\\t\\t\", dataframe.quantile(0.999))\n",
    "        print(\"p99.99%:\\t\", dataframe.quantile(0.9999))\n",
    "        print(\"p99.9999%:\\t\", dataframe.quantile(0.99999))\n",
    "        print(\"\\n\")"
   ]
  },
  {
   "cell_type": "code",
   "execution_count": 11,
   "id": "5f06dc92-f54e-42e4-9662-7d55f50153d8",
   "metadata": {
    "execution": {
     "iopub.execute_input": "2023-05-08T08:45:50.924215Z",
     "iopub.status.busy": "2023-05-08T08:45:50.923947Z",
     "iopub.status.idle": "2023-05-08T08:45:50.933279Z",
     "shell.execute_reply": "2023-05-08T08:45:50.932727Z",
     "shell.execute_reply.started": "2023-05-08T08:45:50.924197Z"
    },
    "tags": []
   },
   "outputs": [
    {
     "data": {
      "text/html": [
       "<div>\n",
       "<style scoped>\n",
       "    .dataframe tbody tr th:only-of-type {\n",
       "        vertical-align: middle;\n",
       "    }\n",
       "\n",
       "    .dataframe tbody tr th {\n",
       "        vertical-align: top;\n",
       "    }\n",
       "\n",
       "    .dataframe thead th {\n",
       "        text-align: right;\n",
       "    }\n",
       "</style>\n",
       "<table border=\"1\" class=\"dataframe\">\n",
       "  <thead>\n",
       "    <tr style=\"text-align: right;\">\n",
       "      <th></th>\n",
       "      <th>Switch</th>\n",
       "      <th>SyncInterval</th>\n",
       "      <th>value</th>\n",
       "    </tr>\n",
       "  </thead>\n",
       "  <tbody>\n",
       "    <tr>\n",
       "      <th>0</th>\n",
       "      <td>Kontron</td>\n",
       "      <td>8</td>\n",
       "      <td>-6.0</td>\n",
       "    </tr>\n",
       "    <tr>\n",
       "      <th>1</th>\n",
       "      <td>Kontron</td>\n",
       "      <td>8</td>\n",
       "      <td>-5.0</td>\n",
       "    </tr>\n",
       "    <tr>\n",
       "      <th>2</th>\n",
       "      <td>Kontron</td>\n",
       "      <td>8</td>\n",
       "      <td>-5.0</td>\n",
       "    </tr>\n",
       "    <tr>\n",
       "      <th>3</th>\n",
       "      <td>Kontron</td>\n",
       "      <td>8</td>\n",
       "      <td>-5.0</td>\n",
       "    </tr>\n",
       "    <tr>\n",
       "      <th>4</th>\n",
       "      <td>Kontron</td>\n",
       "      <td>8</td>\n",
       "      <td>5.0</td>\n",
       "    </tr>\n",
       "    <tr>\n",
       "      <th>...</th>\n",
       "      <td>...</td>\n",
       "      <td>...</td>\n",
       "      <td>...</td>\n",
       "    </tr>\n",
       "    <tr>\n",
       "      <th>2026805</th>\n",
       "      <td>FibroLAN</td>\n",
       "      <td>128</td>\n",
       "      <td>4.0</td>\n",
       "    </tr>\n",
       "    <tr>\n",
       "      <th>2026806</th>\n",
       "      <td>FibroLAN</td>\n",
       "      <td>128</td>\n",
       "      <td>-5.0</td>\n",
       "    </tr>\n",
       "    <tr>\n",
       "      <th>2026807</th>\n",
       "      <td>FibroLAN</td>\n",
       "      <td>128</td>\n",
       "      <td>2.0</td>\n",
       "    </tr>\n",
       "    <tr>\n",
       "      <th>2026808</th>\n",
       "      <td>FibroLAN</td>\n",
       "      <td>128</td>\n",
       "      <td>-5.0</td>\n",
       "    </tr>\n",
       "    <tr>\n",
       "      <th>2026809</th>\n",
       "      <td>FibroLAN</td>\n",
       "      <td>128</td>\n",
       "      <td>-3.0</td>\n",
       "    </tr>\n",
       "  </tbody>\n",
       "</table>\n",
       "<p>2026810 rows × 3 columns</p>\n",
       "</div>"
      ],
      "text/plain": [
       "           Switch SyncInterval  value\n",
       "0         Kontron            8   -6.0\n",
       "1         Kontron            8   -5.0\n",
       "2         Kontron            8   -5.0\n",
       "3         Kontron            8   -5.0\n",
       "4         Kontron            8    5.0\n",
       "...           ...          ...    ...\n",
       "2026805  FibroLAN          128    4.0\n",
       "2026806  FibroLAN          128   -5.0\n",
       "2026807  FibroLAN          128    2.0\n",
       "2026808  FibroLAN          128   -5.0\n",
       "2026809  FibroLAN          128   -3.0\n",
       "\n",
       "[2026810 rows x 3 columns]"
      ]
     },
     "execution_count": 11,
     "metadata": {},
     "output_type": "execute_result"
    }
   ],
   "source": [
    "mdf"
   ]
  },
  {
   "cell_type": "code",
   "execution_count": 47,
   "id": "170b0ecf-1518-4585-9265-65303b239b68",
   "metadata": {
    "execution": {
     "iopub.execute_input": "2023-05-08T09:17:00.815678Z",
     "iopub.status.busy": "2023-05-08T09:17:00.815426Z",
     "iopub.status.idle": "2023-05-08T09:17:02.305846Z",
     "shell.execute_reply": "2023-05-08T09:17:02.305310Z",
     "shell.execute_reply.started": "2023-05-08T09:17:00.815662Z"
    },
    "tags": []
   },
   "outputs": [
    {
     "data": {
      "image/png": "[encoded data removed]",
      "text/plain": [
       "<Figure size 600x400 with 1 Axes>"
      ]
     },
     "metadata": {},
     "output_type": "display_data"
    }
   ],
   "source": [
    "# sns.set_theme()\n",
    "colors = [\"#00305d\", \"#2C94CC\"]\n",
    "sns.set_palette(sns.color_palette(colors))\n",
    "\n",
    "fig, ax = plt.subplots(figsize=(6, 4))\n",
    "\n",
    "plt.title(\"Time Synchronization \", loc='left', fontsize=18)\n",
    "plt.title(\"Slave Clock Deviation\", loc='right', fontsize=13, color='grey')\n",
    "\n",
    "sns.boxplot(x=\"SyncInterval\", y=\"value\", hue=\"Switch\", data=mdf, fliersize=1, saturation=1, width=.6)\n",
    "sns.despine(offset=10, trim=True)\n",
    "\n",
    "plt.legend(bbox_to_anchor=(0.7, 0.375), loc='upper left', borderaxespad=0)\n",
    "\n",
    "plt.grid(dict(visible=True,\n",
    "              which='major',\n",
    "              color='#CCD6DF',\n",
    "              linestyle='-'))\n",
    "plt.grid(dict(visible=True,\n",
    "              which='minor',\n",
    "              color='#CCD6DF',\n",
    "              linestyle='--'))\n",
    "\n",
    "ax.set_ylabel(\"Deviation to GM [ns]\")\n",
    "ax.set_xlabel('Sync Messages [1/s]')\n",
    "\n",
    "plt.tight_layout()\n",
    "\n",
    "plt.savefig('plot-ptp.png', dpi=300)\n",
    "plt.show()"
   ]
  },
  {
   "cell_type": "code",
   "execution_count": null,
   "id": "132f4def-305f-4a38-8f0c-2411570b8899",
   "metadata": {
    "tags": []
   },
   "outputs": [],
   "source": [
    "stats = {}\n",
    "for c in column_names:\n",
    "    stats[c] = boxplot_stats(df[c].dropna().values)\n",
    "\n",
    "stats['8']"
   ]
  },
  {
   "cell_type": "code",
   "execution_count": null,
   "id": "56421823-033e-4643-909d-b9d66e4cf46c",
   "metadata": {
    "tags": []
   },
   "outputs": [],
   "source": [
    "boxplot_stats(dfs[\"Kontron\"][\"128\"].dropna().values)"
   ]
  },
  {
   "cell_type": "code",
   "execution_count": null,
   "id": "d057d8dc-0ea2-44b9-8e93-a8da24115153",
   "metadata": {},
   "outputs": [],
   "source": []
  }
 ],
 "metadata": {
  "kernelspec": {
   "display_name": "Python 3 (ipykernel)",
   "language": "python",
   "name": "python3"
  },
  "language_info": {
   "codemirror_mode": {
    "name": "ipython",
    "version": 3
   },
   "file_extension": ".py",
   "mimetype": "text/x-python",
   "name": "python",
   "nbconvert_exporter": "python",
   "pygments_lexer": "ipython3",
   "version": "3.10.10"
  }
 },
 "nbformat": 4,
 "nbformat_minor": 5
}

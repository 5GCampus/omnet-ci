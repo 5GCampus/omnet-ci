{
 "cells": [
  {
   "cell_type": "code",
   "execution_count": 1,
   "id": "9e92ba3a-6c48-4cdc-b8fd-2a75d5237efe",
   "metadata": {
    "execution": {
     "iopub.execute_input": "2023-04-19T12:02:53.128392Z",
     "iopub.status.busy": "2023-04-19T12:02:53.128151Z",
     "iopub.status.idle": "2023-04-19T12:02:54.034963Z",
     "shell.execute_reply": "2023-04-19T12:02:54.034377Z",
     "shell.execute_reply.started": "2023-04-19T12:02:53.128372Z"
    },
    "tags": []
   },
   "outputs": [
    {
     "name": "stderr",
     "output_type": "stream",
     "text": [
      "/usr/lib/python3.10/site-packages/scapy/layers/ipsec.py:471: CryptographyDeprecationWarning: Blowfish has been deprecated\n",
      "  cipher=algorithms.Blowfish,\n",
      "/usr/lib/python3.10/site-packages/scapy/layers/ipsec.py:485: CryptographyDeprecationWarning: CAST5 has been deprecated\n",
      "  cipher=algorithms.CAST5,\n"
     ]
    }
   ],
   "source": [
    "from numpy.random import default_rng\n",
    "from scapy.all import Ether, Dot1Q, RawPcapWriter, IP, UDP"
   ]
  },
  {
   "cell_type": "code",
   "execution_count": 2,
   "id": "e4d78e7f-9c3f-42d8-9a9a-47d79f39e36d",
   "metadata": {
    "execution": {
     "iopub.execute_input": "2023-04-19T12:02:55.160810Z",
     "iopub.status.busy": "2023-04-19T12:02:55.160514Z",
     "iopub.status.idle": "2023-04-19T12:02:55.164458Z",
     "shell.execute_reply": "2023-04-19T12:02:55.163706Z",
     "shell.execute_reply.started": "2023-04-19T12:02:55.160790Z"
    },
    "tags": []
   },
   "outputs": [],
   "source": [
    "# create new Generator:\n",
    "rng = default_rng()"
   ]
  },
  {
   "cell_type": "code",
   "execution_count": 3,
   "id": "1688ddd1-1bd0-4e8d-9d9b-28cbc6b09425",
   "metadata": {
    "execution": {
     "iopub.execute_input": "2023-04-19T12:02:56.108185Z",
     "iopub.status.busy": "2023-04-19T12:02:56.107939Z",
     "iopub.status.idle": "2023-04-19T12:02:56.112384Z",
     "shell.execute_reply": "2023-04-19T12:02:56.111845Z",
     "shell.execute_reply.started": "2023-04-19T12:02:56.108166Z"
    },
    "tags": []
   },
   "outputs": [],
   "source": [
    "def get_header(payload, pkt_id, vlan_prio, eth_dst, eth_src):\n",
    "    return Ether(dst=eth_dst,\n",
    "                 src=eth_src\n",
    "                 )/Dot1Q(prio=vlan_prio,\n",
    "                         vlan=VLAN_ID,\n",
    "                         type=VLAN_TYPE\n",
    "                         )/IP(id=pkt_id,\n",
    "                              version=4,\n",
    "                              dst='10.0.0.1',\n",
    "                              src='10.0.0.2')/UDP(sport=10002,\n",
    "                                                  dport=10001)/payload\n",
    "\n",
    "\n",
    "def inc_pkt_id(pkt_id):\n",
    "    if pkt_id >= 65535:\n",
    "        return 0\n",
    "    else:\n",
    "        return pkt_id + 1"
   ]
  },
  {
   "cell_type": "code",
   "execution_count": 4,
   "id": "256a9265-2d5d-468a-bbc7-c16f0cd0f0b8",
   "metadata": {
    "execution": {
     "iopub.execute_input": "2023-04-19T12:02:57.017802Z",
     "iopub.status.busy": "2023-04-19T12:02:57.017561Z",
     "iopub.status.idle": "2023-04-19T12:02:57.027093Z",
     "shell.execute_reply": "2023-04-19T12:02:57.024766Z",
     "shell.execute_reply.started": "2023-04-19T12:02:57.017783Z"
    },
    "tags": []
   },
   "outputs": [],
   "source": [
    "# onboard i211:\n",
    "MAC_NODE0 = \"1C:1B:0D:9A:70:8C\"\n",
    "\n",
    "# dedicated i210:\n",
    "MAC_NODE1 = \"00:00:00:00:00:01\"\n",
    "MAC_NODE2 = \"00:00:00:00:00:02\"\n",
    "MAC_NODE3 = \"00:00:00:00:00:03\"\n",
    "\n",
    "VLAN_ID = 3\n",
    "VLAN_TYPE = 0x0800\n",
    "HEADERS = 18 + 20 + 8 + 4  # Eth, VLAN, IP, UDP, CRC\n",
    "FULL_FRAME = 1522\n",
    "MIN_FRAME = 68\n",
    "\n",
    "DURATION = 60"
   ]
  },
  {
   "cell_type": "code",
   "execution_count": 5,
   "id": "d929955b-1fb5-450b-be9f-e2bd775d1d88",
   "metadata": {
    "execution": {
     "iopub.execute_input": "2023-04-19T12:02:59.111735Z",
     "iopub.status.busy": "2023-04-19T12:02:59.111489Z",
     "iopub.status.idle": "2023-04-19T12:02:59.116467Z",
     "shell.execute_reply": "2023-04-19T12:02:59.115973Z",
     "shell.execute_reply.started": "2023-04-19T12:02:59.111716Z"
    },
    "tags": []
   },
   "outputs": [],
   "source": [
    "def create_pcap(length, cycle, vlan_prio, eth_src, eth_dst, validation_test_no):\n",
    "    path = \"/home/arch/testbed_src/src/pcap_writer/cut-through.pcap\"\n",
    "    pcap = RawPcapWriter(open(path, 'wb'), nano=False, linktype=1, sync=True, append=True)\n",
    "\n",
    "    sec = 0\n",
    "    usec = 0\n",
    "    pkt_id = 0\n",
    "\n",
    "    while sec < length:\n",
    "        packet_size = round(rng.uniform(64, 1522))\n",
    "        p = (packet_size - HEADERS) * '0'\n",
    "        header = get_header(payload=p,\n",
    "                            pkt_id=pkt_id,\n",
    "                            vlan_prio=vlan_prio,\n",
    "                            eth_dst=eth_dst,\n",
    "                            eth_src=eth_src)\n",
    "        pkt_id = inc_pkt_id(pkt_id)\n",
    "\n",
    "        pcap.write_header(header)\n",
    "        pcap.write_packet(header, sec=sec, usec=usec)\n",
    "\n",
    "        usec += cycle\n",
    "        if usec >= 1000000:\n",
    "            sec += 1\n",
    "            usec -= 1000000"
   ]
  },
  {
   "cell_type": "code",
   "execution_count": 6,
   "id": "d5c030d1-4544-44b7-bb2f-579d14daa5f5",
   "metadata": {
    "execution": {
     "iopub.execute_input": "2023-04-19T12:03:02.425085Z",
     "iopub.status.busy": "2023-04-19T12:03:02.424850Z",
     "iopub.status.idle": "2023-04-19T12:15:18.516074Z",
     "shell.execute_reply": "2023-04-19T12:15:18.515450Z",
     "shell.execute_reply.started": "2023-04-19T12:03:02.425066Z"
    },
    "tags": []
   },
   "outputs": [],
   "source": [
    "create_pcap(length=DURATION,\n",
    "            cycle=100,  # 100µs between frames\n",
    "            vlan_prio=6,\n",
    "            eth_src=MAC_NODE1,\n",
    "            eth_dst=MAC_NODE0,\n",
    "            validation_test_no=4\n",
    "            )"
   ]
  },
  {
   "cell_type": "markdown",
   "id": "4eb39077-917e-45a2-8f9b-4858d88bff9c",
   "metadata": {},
   "source": [
    "# Measurement:\n",
    "- copy file to node1/2\n",
    "- start capturing on node0 with tcpdump:\n",
    "`sudo tcpdump -i enp5s0 ether src 68:05:ca:71:d0:94 and udp port 10001 -j adapter_unsynced --time-stamp-precision=nano -s 250 -w validation-recv-4.pcap`\n",
    "- start sending on node1/2 with tcpreplay:\n",
    "`sudo tcpreplay -i enp1s0 --timer=nano -K --sockprio=2 --loop=1 validation-src-4.pcap`\n",
    "- copy files back to hp-workstation for evaluating the measurement"
   ]
  },
  {
   "cell_type": "code",
   "execution_count": null,
   "id": "79becacd-920f-46e6-bae5-640618dc8d51",
   "metadata": {},
   "outputs": [],
   "source": []
  }
 ],
 "metadata": {
  "kernelspec": {
   "display_name": "Python 3 (ipykernel)",
   "language": "python",
   "name": "python3"
  },
  "language_info": {
   "codemirror_mode": {
    "name": "ipython",
    "version": 3
   },
   "file_extension": ".py",
   "mimetype": "text/x-python",
   "name": "python",
   "nbconvert_exporter": "python",
   "pygments_lexer": "ipython3",
   "version": "3.10.10"
  }
 },
 "nbformat": 4,
 "nbformat_minor": 5
}

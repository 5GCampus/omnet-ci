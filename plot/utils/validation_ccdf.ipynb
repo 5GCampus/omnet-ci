{
 "cells": [
  {
   "cell_type": "markdown",
   "id": "733378cc-c1ec-4ffb-a9bc-df81b314e2ae",
   "metadata": {},
   "source": [
    "# Validation Paper: CCDF Measurements/Plots"
   ]
  },
  {
   "cell_type": "code",
   "execution_count": 1,
   "id": "79b4ced4-f09c-411d-bf39-b0b4d747ba38",
   "metadata": {
    "execution": {
     "iopub.execute_input": "2023-05-08T09:48:23.319346Z",
     "iopub.status.idle": "2023-05-08T09:48:24.402121Z",
     "shell.execute_reply": "2023-05-08T09:48:24.401478Z",
     "shell.execute_reply.started": "2023-05-08T09:48:23.319328Z"
    },
    "tags": []
   },
   "outputs": [],
   "source": [
    "%reload_ext autoreload\n",
    "from utils.parsePcap import TsnParsePcap\n",
    "from utils.createPlot import TsnCreatePlot\n",
    "from utils.util import *\n",
    "from pandas import read_csv, concat, cut"
   ]
  },
  {
   "cell_type": "code",
   "execution_count": 2,
   "id": "46bc47e0-e920-4210-b79f-d35d29004050",
   "metadata": {
    "execution": {
     "iopub.execute_input": "2023-05-08T09:48:25.838284Z",
     "iopub.status.busy": "2023-05-08T09:48:25.838023Z",
     "iopub.status.idle": "2023-05-08T09:48:25.842059Z",
     "shell.execute_reply": "2023-05-08T09:48:25.841568Z",
     "shell.execute_reply.started": "2023-05-08T09:48:25.838266Z"
    },
    "tags": []
   },
   "outputs": [],
   "source": [
    "CONFIGURATION = {\"Kontron\": {\n",
    "                    \"no_cts\": \"KONTRON_1ms-60s-NULL-NULL_txinject-TAS-no-CTS_1518_200.0percent.pcap\",\n",
    "                    \"cts\": \"KONTRON_1ms-60s-NULL-NULL_txinject-TAS-CTS_1518_200.0percent.pcap\"\n",
    "                    },\n",
    "                 \"FibroLAN\": {\n",
    "                    \"no_cts\": \"FibroLAN_1ms-60s-NULL-NULL_txinject-TAS-no-CTS_1518_200.0percent.pcap\",\n",
    "                    \"cts\": \"FibroLAN_1ms-60s-NULL-NULL_txinject-TAS-CTS_1518_200.0percent.pcap\"\n",
    "                    }\n",
    "                 }\n",
    "\n",
    "SOURCE_PATH_ROOT = \"/mnt/harddrive/data/pcaps\"\n",
    "OUTPUT_PATH_ROOT = \"/home/arch/validation_paper\"\n",
    "mapping = {1: \"robotic\"}"
   ]
  },
  {
   "cell_type": "code",
   "execution_count": 3,
   "id": "e1223213-86a9-4fcb-8cd6-970f963b09f3",
   "metadata": {
    "execution": {
     "iopub.execute_input": "2023-05-08T09:48:26.110692Z",
     "iopub.status.busy": "2023-05-08T09:48:26.110429Z",
     "iopub.status.idle": "2023-05-08T09:48:34.755989Z",
     "shell.execute_reply": "2023-05-08T09:48:34.755248Z",
     "shell.execute_reply.started": "2023-05-08T09:48:26.110675Z"
    },
    "tags": []
   },
   "outputs": [
    {
     "name": "stdout",
     "output_type": "stream",
     "text": [
      "FRAME LOSS DETECTED IN robotic STREAM!\n",
      "FRAME INDEX FROM PCAP: 10581\n",
      "EXPECTED INDEX IN DATAFRAME: 10580\n",
      "FRAME LOSS DETECTED IN robotic STREAM!\n",
      "FRAME INDEX FROM PCAP: 10581\n",
      "EXPECTED INDEX IN DATAFRAME: 10580\n"
     ]
    },
    {
     "ename": "TypeError",
     "evalue": "'>' not supported between instances of 'NoneType' and 'int'",
     "output_type": "error",
     "traceback": [
      "\u001b[0;31m---------------------------------------------------------------------------\u001b[0m",
      "\u001b[0;31mTypeError\u001b[0m                                 Traceback (most recent call last)",
      "Cell \u001b[0;32mIn[3], line 22\u001b[0m\n\u001b[1;32m     15\u001b[0m cp \u001b[38;5;241m=\u001b[39m TsnCreatePlot(dfs\u001b[38;5;241m=\u001b[39md,\n\u001b[1;32m     16\u001b[0m                    output_path\u001b[38;5;241m=\u001b[39moutput_path,\n\u001b[1;32m     17\u001b[0m                    mapping\u001b[38;5;241m=\u001b[39mmapping,\n\u001b[1;32m     18\u001b[0m                    bg_load\u001b[38;5;241m=\u001b[39m\u001b[38;5;28;01mNone\u001b[39;00m,\n\u001b[1;32m     19\u001b[0m                    bg_framesize\u001b[38;5;241m=\u001b[39m\u001b[38;5;28;01mNone\u001b[39;00m,\n\u001b[1;32m     20\u001b[0m                    qos_type\u001b[38;5;241m=\u001b[39m\u001b[38;5;124m\"\u001b[39m\u001b[38;5;124mNone\u001b[39m\u001b[38;5;124m\"\u001b[39m)\n\u001b[1;32m     21\u001b[0m cp\u001b[38;5;241m.\u001b[39mgenerate_plots(plot_type\u001b[38;5;241m=\u001b[39m\u001b[38;5;124m\"\u001b[39m\u001b[38;5;124mlatency_ccdf\u001b[39m\u001b[38;5;124m\"\u001b[39m, output\u001b[38;5;241m=\u001b[39m\u001b[38;5;124m\"\u001b[39m\u001b[38;5;124mcsv\u001b[39m\u001b[38;5;124m\"\u001b[39m)\n\u001b[0;32m---> 22\u001b[0m \u001b[43mcp\u001b[49m\u001b[38;5;241;43m.\u001b[39;49m\u001b[43mgenerate_plots\u001b[49m\u001b[43m(\u001b[49m\u001b[43mplot_type\u001b[49m\u001b[38;5;241;43m=\u001b[39;49m\u001b[38;5;124;43m\"\u001b[39;49m\u001b[38;5;124;43mlatency_ccdf\u001b[39;49m\u001b[38;5;124;43m\"\u001b[39;49m\u001b[43m,\u001b[49m\u001b[43m \u001b[49m\u001b[43moutput\u001b[49m\u001b[38;5;241;43m=\u001b[39;49m\u001b[38;5;124;43m\"\u001b[39;49m\u001b[38;5;124;43mmpl\u001b[39;49m\u001b[38;5;124;43m\"\u001b[39;49m\u001b[43m)\u001b[49m\n",
      "File \u001b[0;32m~/validation_paper/utils/createPlot.py:142\u001b[0m, in \u001b[0;36mTsnCreatePlot.generate_plots\u001b[0;34m(self, plot_type, output, title, xlabels, src, cycle_time)\u001b[0m\n\u001b[1;32m    135\u001b[0m     \u001b[38;5;28mself\u001b[39m\u001b[38;5;241m.\u001b[39mcdf(measurement\u001b[38;5;241m=\u001b[39m\u001b[38;5;124m\"\u001b[39m\u001b[38;5;124mLatency (ns)\u001b[39m\u001b[38;5;124m\"\u001b[39m,\n\u001b[1;32m    136\u001b[0m              complementary\u001b[38;5;241m=\u001b[39m\u001b[38;5;28;01mFalse\u001b[39;00m,\n\u001b[1;32m    137\u001b[0m              losses\u001b[38;5;241m=\u001b[39mlossesInMeasurement,\n\u001b[1;32m    138\u001b[0m              output\u001b[38;5;241m=\u001b[39moutput,\n\u001b[1;32m    139\u001b[0m              plot_type\u001b[38;5;241m=\u001b[39mplot_type,\n\u001b[1;32m    140\u001b[0m              title\u001b[38;5;241m=\u001b[39mtitle)\n\u001b[1;32m    141\u001b[0m \u001b[38;5;28;01melif\u001b[39;00m plot_type \u001b[38;5;241m==\u001b[39m \u001b[38;5;124m\"\u001b[39m\u001b[38;5;124mlatency_ccdf\u001b[39m\u001b[38;5;124m\"\u001b[39m:\n\u001b[0;32m--> 142\u001b[0m     \u001b[38;5;28;43mself\u001b[39;49m\u001b[38;5;241;43m.\u001b[39;49m\u001b[43mcdf\u001b[49m\u001b[43m(\u001b[49m\u001b[43mmeasurement\u001b[49m\u001b[38;5;241;43m=\u001b[39;49m\u001b[38;5;124;43m\"\u001b[39;49m\u001b[38;5;124;43mLatency (ns)\u001b[39;49m\u001b[38;5;124;43m\"\u001b[39;49m\u001b[43m,\u001b[49m\n\u001b[1;32m    143\u001b[0m \u001b[43m             \u001b[49m\u001b[43mcomplementary\u001b[49m\u001b[38;5;241;43m=\u001b[39;49m\u001b[38;5;28;43;01mTrue\u001b[39;49;00m\u001b[43m,\u001b[49m\n\u001b[1;32m    144\u001b[0m \u001b[43m             \u001b[49m\u001b[43mlosses\u001b[49m\u001b[38;5;241;43m=\u001b[39;49m\u001b[43mlossesInMeasurement\u001b[49m\u001b[43m,\u001b[49m\n\u001b[1;32m    145\u001b[0m \u001b[43m             \u001b[49m\u001b[43moutput\u001b[49m\u001b[38;5;241;43m=\u001b[39;49m\u001b[43moutput\u001b[49m\u001b[43m,\u001b[49m\n\u001b[1;32m    146\u001b[0m \u001b[43m             \u001b[49m\u001b[43mplot_type\u001b[49m\u001b[38;5;241;43m=\u001b[39;49m\u001b[43mplot_type\u001b[49m\u001b[43m,\u001b[49m\n\u001b[1;32m    147\u001b[0m \u001b[43m             \u001b[49m\u001b[43mtitle\u001b[49m\u001b[38;5;241;43m=\u001b[39;49m\u001b[43mtitle\u001b[49m\u001b[43m)\u001b[49m\n\u001b[1;32m    148\u001b[0m \u001b[38;5;28;01melif\u001b[39;00m plot_type \u001b[38;5;241m==\u001b[39m \u001b[38;5;124m\"\u001b[39m\u001b[38;5;124mifg_cdf\u001b[39m\u001b[38;5;124m\"\u001b[39m:\n\u001b[1;32m    149\u001b[0m     \u001b[38;5;28mself\u001b[39m\u001b[38;5;241m.\u001b[39mcdf(measurement\u001b[38;5;241m=\u001b[39m\u001b[38;5;124m\"\u001b[39m\u001b[38;5;124mInter Frame Gap Sender (ns)\u001b[39m\u001b[38;5;124m\"\u001b[39m,\n\u001b[1;32m    150\u001b[0m              complementary\u001b[38;5;241m=\u001b[39m\u001b[38;5;28;01mFalse\u001b[39;00m,\n\u001b[1;32m    151\u001b[0m              losses\u001b[38;5;241m=\u001b[39mlossesInMeasurement,\n\u001b[1;32m    152\u001b[0m              output\u001b[38;5;241m=\u001b[39moutput,\n\u001b[1;32m    153\u001b[0m              plot_type\u001b[38;5;241m=\u001b[39mplot_type,\n\u001b[1;32m    154\u001b[0m              title\u001b[38;5;241m=\u001b[39mtitle)\n",
      "File \u001b[0;32m~/validation_paper/utils/createPlot.py:335\u001b[0m, in \u001b[0;36mTsnCreatePlot.cdf\u001b[0;34m(self, measurement, complementary, losses, output, plot_type, title)\u001b[0m\n\u001b[1;32m    330\u001b[0m plt\u001b[38;5;241m.\u001b[39mlegend(handles\u001b[38;5;241m=\u001b[39mhandles,\n\u001b[1;32m    331\u001b[0m            loc\u001b[38;5;241m=\u001b[39m\u001b[38;5;124m'\u001b[39m\u001b[38;5;124mupper right\u001b[39m\u001b[38;5;124m'\u001b[39m)\n\u001b[1;32m    333\u001b[0m \u001b[38;5;28;01mif\u001b[39;00m title:\n\u001b[1;32m    334\u001b[0m     trailer \u001b[38;5;241m=\u001b[39m \u001b[38;5;124m\"\u001b[39m\u001b[38;5;124m-\u001b[39m\u001b[38;5;132;01m{}\u001b[39;00m\u001b[38;5;124mB-\u001b[39m\u001b[38;5;132;01m{}\u001b[39;00m\u001b[38;5;124m%\u001b[39m\u001b[38;5;124m\"\u001b[39m\u001b[38;5;241m.\u001b[39mformat(\u001b[38;5;28mself\u001b[39m\u001b[38;5;241m.\u001b[39mbg_framesize, \u001b[38;5;28mself\u001b[39m\u001b[38;5;241m.\u001b[39mbg_load) \\\n\u001b[0;32m--> 335\u001b[0m               \u001b[38;5;28;01mif\u001b[39;00m \u001b[38;5;28;43mself\u001b[39;49m\u001b[38;5;241;43m.\u001b[39;49m\u001b[43mbg_load\u001b[49m\u001b[43m \u001b[49m\u001b[38;5;241;43m>\u001b[39;49m\u001b[43m \u001b[49m\u001b[38;5;241;43m0\u001b[39;49m \u001b[38;5;28;01melse\u001b[39;00m \u001b[38;5;124m\"\u001b[39m\u001b[38;5;124m-No-BG\u001b[39m\u001b[38;5;124m\"\u001b[39m\n\u001b[1;32m    336\u001b[0m     title_right \u001b[38;5;241m=\u001b[39m \u001b[38;5;124m\"\u001b[39m\u001b[38;5;132;01m{}\u001b[39;00m\u001b[38;5;132;01m{}\u001b[39;00m\u001b[38;5;124m\"\u001b[39m\u001b[38;5;241m.\u001b[39mformat(\u001b[38;5;28mself\u001b[39m\u001b[38;5;241m.\u001b[39mqos_type, trailer)\n\u001b[1;32m    337\u001b[0m     plt\u001b[38;5;241m.\u001b[39mtitle(\u001b[38;5;124m\"\u001b[39m\u001b[38;5;124mCCDF: IFG\u001b[39m\u001b[38;5;124m\"\u001b[39m, \u001b[38;5;241m*\u001b[39m\u001b[38;5;241m*\u001b[39m\u001b[38;5;28mself\u001b[39m\u001b[38;5;241m.\u001b[39mtitle_params_left) \\\n\u001b[1;32m    338\u001b[0m         \u001b[38;5;28;01mif\u001b[39;00m complementary \u001b[38;5;28;01melse\u001b[39;00m plt\u001b[38;5;241m.\u001b[39mtitle(\u001b[38;5;124m\"\u001b[39m\u001b[38;5;124mCDF: IFG\u001b[39m\u001b[38;5;124m\"\u001b[39m,\n\u001b[1;32m    339\u001b[0m                                         \u001b[38;5;241m*\u001b[39m\u001b[38;5;241m*\u001b[39m\u001b[38;5;28mself\u001b[39m\u001b[38;5;241m.\u001b[39mtitle_params_left)\n",
      "\u001b[0;31mTypeError\u001b[0m: '>' not supported between instances of 'NoneType' and 'int'"
     ]
    },
    {
     "data": {
      "image/png": "[encoded data removed]",
      "text/plain": [
       "<Figure size 640x480 with 1 Axes>"
      ]
     },
     "metadata": {},
     "output_type": "display_data"
    }
   ],
   "source": [
    "dfs = []\n",
    "\n",
    "for vendor, config in CONFIGURATION.items():\n",
    "    for qos, pcap in config.items():\n",
    "        input_path = \"{}/{}\".format(SOURCE_PATH_ROOT, pcap)\n",
    "        output_path = \"{}/{}\".format(OUTPUT_PATH_ROOT, vendor)\n",
    "\n",
    "        pp = TsnParsePcap(path=input_path,\n",
    "                          mapping=mapping,\n",
    "                          output_path=output_path)\n",
    "        pp.pcap_to_dfs()\n",
    "        d = pp.get_dfs()\n",
    "        dfs.append(d)\n",
    "\n",
    "        cp = TsnCreatePlot(dfs=d,\n",
    "                           output_path=output_path,\n",
    "                           mapping=mapping,\n",
    "                           bg_load=None,\n",
    "                           bg_framesize=None,\n",
    "                           qos_type=\"None\")\n",
    "        cp.generate_plots(plot_type=\"latency_ccdf\", output=\"csv\")\n",
    "        cp.generate_plots(plot_type=\"latency_ccdf\", output=\"mpl\")"
   ]
  },
  {
   "cell_type": "code",
   "execution_count": null,
   "id": "67d902be-304c-4c35-ac6d-09b8a19def3e",
   "metadata": {
    "tags": []
   },
   "outputs": [],
   "source": [
    "latencies = {}\n",
    "\n",
    "for c, files in paths.items():\n",
    "    for file in files:\n",
    "        name = get_filename(file)\n",
    "        print(\"{}-{}\".format(c, name))\n",
    "        output_path = \"{}/{}-{}\".format(OUTPUT_PATH_ROOT, c, name)\n",
    "\n",
    "        pp.pcap_to_dfs()\n",
    "        dfs = pp.get_dfs()\n",
    "        cp = TsnCreatePlot(dfs=dfs,\n",
    "                           output_path=output_path,\n",
    "                           mapping=mapping,\n",
    "                           bg_load=None,\n",
    "                           bg_framesize=None,\n",
    "                           qos_type=\"None\")\n",
    "        cp.generate_plots(plot_type=\"latency_ccdf\", output=\"csv\")\n",
    "        cname = \"{}-{}\".format(c, name)\n",
    "        latencies[cname] = None"
   ]
  },
  {
   "cell_type": "markdown",
   "id": "61cadd36-ad34-462d-9c63-e32c11bfe606",
   "metadata": {},
   "source": [
    "## Generate Data for PGF:"
   ]
  },
  {
   "cell_type": "code",
   "execution_count": 31,
   "id": "b9162c06-4ea3-40d7-ad09-2cc9a9456e78",
   "metadata": {
    "execution": {
     "iopub.execute_input": "2023-02-28T15:45:52.043148Z",
     "iopub.status.busy": "2023-02-28T15:45:52.042325Z",
     "iopub.status.idle": "2023-02-28T15:45:52.138552Z",
     "shell.execute_reply": "2023-02-28T15:45:52.137958Z",
     "shell.execute_reply.started": "2023-02-28T15:45:52.043078Z"
    },
    "tags": []
   },
   "outputs": [],
   "source": [
    "csvs = {}\n",
    "\n",
    "for name, file in files.items():\n",
    "    for c in [\"CT\", \"NO_CT\"]:\n",
    "        cname = \"{}-{}\".format(c, name)\n",
    "        csv_path = \"{}/{}/csv/latency_ccdf_robotic.csv\".format(OUTPUT_PATH_ROOT, cname)\n",
    "        csvs[cname] = read_csv(csv_path)\n",
    "\n",
    "csvs_new = []\n",
    "for name, df in csvs.items():\n",
    "    df = df[[\"Latency (ns)\", \"ccdf\"]]\n",
    "    df.rename(columns={\"Latency (ns)\": \"x-{}\".format(name),\n",
    "                       \"ccdf\": \"y-{}\".format(name)},\n",
    "              errors=\"raise\",\n",
    "              inplace=True)\n",
    "    csvs_new.append(df)\n",
    "\n",
    "del csvs\n",
    "del df\n",
    "\n",
    "df_pgf = concat(csvs_new,\n",
    "                axis=1,\n",
    "                join=\"outer\",\n",
    "                ignore_index=False)\n",
    "\n",
    "df_pgf.to_csv(\"{}/ccdf.csv\".format(OUTPUT_PATH_ROOT),\n",
    "              index=False,\n",
    "              header=True,\n",
    "              sep=\"\\t\")"
   ]
  },
  {
   "cell_type": "markdown",
   "id": "ad70175b-9e51-44c2-ab12-07c7508fec09",
   "metadata": {},
   "source": [
    "## Sample Data:"
   ]
  },
  {
   "cell_type": "code",
   "execution_count": null,
   "id": "93b05ce3-5cf1-486c-a041-3a67711bbd8f",
   "metadata": {},
   "outputs": [],
   "source": [
    "group = \"extension_pdv\"\n",
    "\n",
    "PATH = \"/home/arch/validation_paper/{}\".format(group)\n",
    "\n",
    "files = []\n",
    "for f in sorted(listdir(PATH)):\n",
    "    if f.endswith(\".csv\"):\n",
    "        files.append(\"{}/{}\".format(PATH, f))"
   ]
  },
  {
   "cell_type": "code",
   "execution_count": null,
   "id": "f4526517-36f6-4d94-948e-279ed22c639c",
   "metadata": {},
   "outputs": [],
   "source": [
    "for file in files:\n",
    "    filename = file.split(group + \"/\")[-1].strip(\".csv\")\n",
    "\n",
    "    df = read_csv(file, sep=\"\\t\")\n",
    "\n",
    "    dfs = []\n",
    "\n",
    "    for i in range(0, 3):\n",
    "        xname = \"x{}\".format(i)\n",
    "        yname = \"y{}\".format(i)\n",
    "\n",
    "        columns = [xname, yname]\n",
    "\n",
    "        filtered = df[columns].dropna()\n",
    "\n",
    "        bins = [-1e-1, 1e-5, 1e-4, 1e-3, 1e-2, 1e-1, 1]\n",
    "\n",
    "        filtered[\"bins\"] = cut(filtered[yname], bins=bins)\n",
    "        f = filtered.groupby('bins', group_keys=False).apply(lambda x: x.sample(min(len(x), 100))).sort_values(yname, ascending=False).reset_index(drop=True)\n",
    "        if f.iloc[-1, f.columns.get_loc(yname)] == 0:\n",
    "            f.iloc[-1, f.columns.get_loc(yname)] = 1e-6\n",
    "        dfs.append(f[[xname, yname]])\n",
    "\n",
    "    out = concat(dfs, axis=1)\n",
    "    out.to_csv(\"{}/sampled/{}_sampled.csv\".format(PATH, filename), index=False, header=True, sep=\"\\t\")\n",
    "    del out\n",
    "    del dfs"
   ]
  }
 ],
 "metadata": {
  "kernelspec": {
   "display_name": "Python 3 (ipykernel)",
   "language": "python",
   "name": "python3"
  },
  "language_info": {
   "codemirror_mode": {
    "name": "ipython",
    "version": 3
   },
   "file_extension": ".py",
   "mimetype": "text/x-python",
   "name": "python",
   "nbconvert_exporter": "python",
   "pygments_lexer": "ipython3",
   "version": "3.10.10"
  }
 },
 "nbformat": 4,
 "nbformat_minor": 5
}

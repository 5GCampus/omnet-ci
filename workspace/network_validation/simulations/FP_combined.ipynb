{
 "cells": [
  {
   "cell_type": "markdown",
   "id": "c5e9a277-8cdf-4198-913b-ac22b752fb46",
   "metadata": {
    "toc-hr-collapsed": true
   },
   "source": [
    "# FP"
   ]
  },
  {
   "cell_type": "code",
   "execution_count": 1,
   "id": "3f947d3c-0f59-497b-be1f-e20e7b7ef0e2",
   "metadata": {
    "tags": []
   },
   "outputs": [],
   "source": [
    "# import\n",
    "import os\n",
    "import pandas as pd\n",
    "import numpy as np\n",
    "import matplotlib.pyplot as plt\n",
    "import shutil\n",
    "import seaborn as sns"
   ]
  },
  {
   "cell_type": "code",
   "execution_count": 39,
   "id": "d4269811-1d8a-4025-8259-936db6355092",
   "metadata": {
    "tags": []
   },
   "outputs": [],
   "source": [
    "config = [\n",
    "    'final_A_combined',\n",
    "    'final_B_combined',\n",
    "    'final_C_combined',\n",
    "    'final_D_combined',\n",
    "    'final_E_combined',\n",
    "    'final_F_combined'\n",
    "]"
   ]
  },
  {
   "cell_type": "code",
   "execution_count": 35,
   "id": "b1dc6892-9e2e-4b3f-b080-8482586964c8",
   "metadata": {
    "tags": []
   },
   "outputs": [],
   "source": [
    "#!pwd\n",
    "#os.chdir(\"/home/howhang/omnetpp-6.0-linux-x86_64/omnetpp-6.0/samples/omnetpp/validation_paper/simulations\")\n",
    "#!pwd"
   ]
  },
  {
   "cell_type": "code",
   "execution_count": null,
   "id": "a1c63261-a04a-43e0-a967-88ed4f63d65d",
   "metadata": {
    "tags": []
   },
   "outputs": [],
   "source": [
    "os.chdir(\"/home/howhang/omnet_validation/workspace/network_validation/simulations\")\n",
    "command_run = \"../network_validation --sim-time-limit 0.1s -r 0 -m -u Cmdenv -c {} -n .:../src:../../../../inet4.4/examples:../../../../inet4.4/showcases:../../../../inet4.4/src:../../../../inet4.4/tests/validation:../../../../inet4.4/tests/networks:../../../../inet4.4/tutorials -x inet.common.selfdoc;inet.linklayer.configurator.gatescheduling.z3;inet.emulation;inet.showcases.visualizer.osg;inet.examples.emulation;inet.showcases.emulation;inet.transportlayer.tcp_lwip;inet.applications.voipstream;inet.visualizer.osg;inet.examples.voipstream --image-path=../../../../inet4.4/images -l ../../../../inet4.4/src/INET omnetpp.ini\"\n",
    "for i in config:\n",
    "    os.system(command_run.format(i))"
   ]
  },
  {
   "cell_type": "markdown",
   "id": "a94aef3d-c4a6-4957-bc76-ac78891368d9",
   "metadata": {},
   "source": [
    "## FP plot"
   ]
  },
  {
   "cell_type": "code",
   "execution_count": 1,
   "id": "3eec430c-c3d3-4f7c-936b-0616d238b1aa",
   "metadata": {
    "tags": []
   },
   "outputs": [
    {
     "name": "stdout",
     "output_type": "stream",
     "text": [
      "/home/howhang/omnet_validation/plot\r\n"
     ]
    }
   ],
   "source": [
    "import os\n",
    "os.chdir(\"/home/howhang/omnet_validation/plot\")\n",
    "!pwd"
   ]
  },
  {
   "cell_type": "code",
   "execution_count": 2,
   "id": "4eeefb3e-325a-4f20-98e6-989b8fb6746a",
   "metadata": {
    "tags": []
   },
   "outputs": [],
   "source": [
    "# In[1]:\n",
    "from utils.parsePcap import TsnParsePcap\n",
    "from utils.createPlot import TsnCreatePlot\n",
    "from pandas import read_csv, concat, cut\n",
    "import matplotlib.pyplot as plt\n",
    "import seaborn as sns\n",
    "import pandas as pd"
   ]
  },
  {
   "cell_type": "code",
   "execution_count": 3,
   "id": "dab47f20-acbf-4d58-9538-47dcd136ab73",
   "metadata": {
    "tags": []
   },
   "outputs": [],
   "source": [
    "# In[92]:\n",
    "CONFIGURATION = {\n",
    "    \"OMNeT++\": {\n",
    "                     \"A\": \"omnet_robotic-NULL-NULL_final-A_1518_200.0percent.pcap\",\n",
    "                     \"B\": \"omnet_robotic-NULL-NULL_final-B_1518_200.0percent.pcap\",\n",
    "                     \"C\": \"omnet_robotic-NULL-NULL_final-C_1518_200.0percent.pcap\",\n",
    "                     \"D\": \"omnet_robotic-NULL-NULL_final-D_1518_200.0percent.pcap\",\n",
    "                     \"E\": \"omnet_robotic-NULL-NULL_final-E_1518_200.0percent.pcap\",\n",
    "                     \"F\": \"omnet_robotic-NULL-NULL_final-F_1518_200.0percent.pcap\",\n",
    "    }\n",
    "}\n",
    "\n",
    "SOURCE_PATH_ROOT = \"../workspace/network_validation/simulations/results/final\"\n",
    "OUTPUT_PATH_ROOT = \"./\"\n",
    "mapping = {2: \"robotic\"}"
   ]
  },
  {
   "cell_type": "code",
   "execution_count": 5,
   "id": "7da45bb4-0f09-44ad-ac30-6821f5d5d1c3",
   "metadata": {
    "tags": []
   },
   "outputs": [
    {
     "name": "stderr",
     "output_type": "stream",
     "text": [
      "sh: 1: tshark: not found\n",
      "sh: 1: tshark: not found\n",
      "sh: 1: tshark: not found\n",
      "sh: 1: tshark: not found\n",
      "sh: 1: tshark: not found\n",
      "sh: 1: tshark: not found\n"
     ]
    }
   ],
   "source": [
    "# In[103]:\n",
    "dfs = []\n",
    "\n",
    "for vendor, config in CONFIGURATION.items():\n",
    "    for qos, pcap in config.items():\n",
    "        input_path = \"{}/{}\".format(SOURCE_PATH_ROOT, pcap)\n",
    "        output_path = \"{}/{}/{}\".format(OUTPUT_PATH_ROOT, vendor, qos)\n",
    "        pp = TsnParsePcap(path=input_path,\n",
    "                          mapping=mapping,\n",
    "                          output_path=output_path,\n",
    "                          omnet_ts=True)\n",
    "        pp.pcap_to_dfs()\n",
    "        d = pp.get_dfs()\n",
    "        dfs.append(d)\n",
    "\n",
    "        cp = TsnCreatePlot(dfs=d,\n",
    "                           output_path=output_path,\n",
    "                           mapping=mapping,\n",
    "                           bg_load=0,\n",
    "                           bg_framesize=1518,\n",
    "                           qos_type=\"None\")\n",
    "        cp.generate_plots(plot_type=\"latency_over_time\", output=\"csv\")\n",
    "        # cp.generate_plots(plot_type=\"latency_ccdf\", output=\"mpl\")\n"
   ]
  },
  {
   "cell_type": "code",
   "execution_count": 6,
   "id": "1600d067-287d-40aa-9bc7-134dba0a4d21",
   "metadata": {
    "tags": []
   },
   "outputs": [
    {
     "name": "stdout",
     "output_type": "stream",
     "text": [
      ".//OMNeT++/A/csv/latency_over_time_robotic.csv\n",
      ".//OMNeT++/B/csv/latency_over_time_robotic.csv\n",
      ".//OMNeT++/C/csv/latency_over_time_robotic.csv\n",
      ".//OMNeT++/D/csv/latency_over_time_robotic.csv\n",
      ".//OMNeT++/E/csv/latency_over_time_robotic.csv\n",
      ".//OMNeT++/F/csv/latency_over_time_robotic.csv\n"
     ]
    },
    {
     "data": {
      "text/html": [
       "<div>\n",
       "<style scoped>\n",
       "    .dataframe tbody tr th:only-of-type {\n",
       "        vertical-align: middle;\n",
       "    }\n",
       "\n",
       "    .dataframe tbody tr th {\n",
       "        vertical-align: top;\n",
       "    }\n",
       "\n",
       "    .dataframe thead th {\n",
       "        text-align: right;\n",
       "    }\n",
       "</style>\n",
       "<table border=\"1\" class=\"dataframe\">\n",
       "  <thead>\n",
       "    <tr style=\"text-align: right;\">\n",
       "      <th></th>\n",
       "      <th>x-OMNeT++-A</th>\n",
       "      <th>x-OMNeT++-B</th>\n",
       "      <th>x-OMNeT++-C</th>\n",
       "      <th>x-OMNeT++-D</th>\n",
       "      <th>x-OMNeT++-E</th>\n",
       "      <th>x-OMNeT++-F</th>\n",
       "    </tr>\n",
       "  </thead>\n",
       "  <tbody>\n",
       "    <tr>\n",
       "      <th>count</th>\n",
       "      <td>4997.000000</td>\n",
       "      <td>4997.000000</td>\n",
       "      <td>4.997000e+03</td>\n",
       "      <td>4997.000000</td>\n",
       "      <td>4997.000000</td>\n",
       "      <td>4.997000e+03</td>\n",
       "    </tr>\n",
       "    <tr>\n",
       "      <th>mean</th>\n",
       "      <td>47.292702</td>\n",
       "      <td>19.172372</td>\n",
       "      <td>8.103000e+00</td>\n",
       "      <td>34.121376</td>\n",
       "      <td>14.378959</td>\n",
       "      <td>8.084500e+00</td>\n",
       "    </tr>\n",
       "    <tr>\n",
       "      <th>std</th>\n",
       "      <td>3.533260</td>\n",
       "      <td>3.536527</td>\n",
       "      <td>9.148102e-11</td>\n",
       "      <td>3.391600</td>\n",
       "      <td>3.538445</td>\n",
       "      <td>2.191897e-10</td>\n",
       "    </tr>\n",
       "    <tr>\n",
       "      <th>min</th>\n",
       "      <td>41.206000</td>\n",
       "      <td>12.638000</td>\n",
       "      <td>8.103000e+00</td>\n",
       "      <td>29.725500</td>\n",
       "      <td>8.186500</td>\n",
       "      <td>8.084500e+00</td>\n",
       "    </tr>\n",
       "    <tr>\n",
       "      <th>25%</th>\n",
       "      <td>44.230000</td>\n",
       "      <td>16.123000</td>\n",
       "      <td>8.103000e+00</td>\n",
       "      <td>30.873500</td>\n",
       "      <td>11.282500</td>\n",
       "      <td>8.084500e+00</td>\n",
       "    </tr>\n",
       "    <tr>\n",
       "      <th>50%</th>\n",
       "      <td>47.302000</td>\n",
       "      <td>19.147000</td>\n",
       "      <td>8.103000e+00</td>\n",
       "      <td>33.950500</td>\n",
       "      <td>14.408500</td>\n",
       "      <td>8.084500e+00</td>\n",
       "    </tr>\n",
       "    <tr>\n",
       "      <th>75%</th>\n",
       "      <td>50.326000</td>\n",
       "      <td>22.219000</td>\n",
       "      <td>8.103000e+00</td>\n",
       "      <td>36.993500</td>\n",
       "      <td>17.471500</td>\n",
       "      <td>8.084500e+00</td>\n",
       "    </tr>\n",
       "    <tr>\n",
       "      <th>max</th>\n",
       "      <td>53.398000</td>\n",
       "      <td>25.339000</td>\n",
       "      <td>8.103000e+00</td>\n",
       "      <td>41.621500</td>\n",
       "      <td>20.653500</td>\n",
       "      <td>8.084500e+00</td>\n",
       "    </tr>\n",
       "  </tbody>\n",
       "</table>\n",
       "</div>"
      ],
      "text/plain": [
       "       x-OMNeT++-A  x-OMNeT++-B   x-OMNeT++-C  x-OMNeT++-D  x-OMNeT++-E  \\\n",
       "count  4997.000000  4997.000000  4.997000e+03  4997.000000  4997.000000   \n",
       "mean     47.292702    19.172372  8.103000e+00    34.121376    14.378959   \n",
       "std       3.533260     3.536527  9.148102e-11     3.391600     3.538445   \n",
       "min      41.206000    12.638000  8.103000e+00    29.725500     8.186500   \n",
       "25%      44.230000    16.123000  8.103000e+00    30.873500    11.282500   \n",
       "50%      47.302000    19.147000  8.103000e+00    33.950500    14.408500   \n",
       "75%      50.326000    22.219000  8.103000e+00    36.993500    17.471500   \n",
       "max      53.398000    25.339000  8.103000e+00    41.621500    20.653500   \n",
       "\n",
       "        x-OMNeT++-F  \n",
       "count  4.997000e+03  \n",
       "mean   8.084500e+00  \n",
       "std    2.191897e-10  \n",
       "min    8.084500e+00  \n",
       "25%    8.084500e+00  \n",
       "50%    8.084500e+00  \n",
       "75%    8.084500e+00  \n",
       "max    8.084500e+00  "
      ]
     },
     "execution_count": 6,
     "metadata": {},
     "output_type": "execute_result"
    }
   ],
   "source": [
    "dfs = []\n",
    "\n",
    "for vendor, config in CONFIGURATION.items():\n",
    "    for qos, pcap in config.items():\n",
    "        filepath = \"{}/{}/{}/csv/latency_over_time_robotic.csv\".format(OUTPUT_PATH_ROOT, vendor, qos)\n",
    "        print(filepath)\n",
    "        df = read_csv(filepath)        \n",
    "        df = df[[\"Latency (ns)\"]]\n",
    "        df.rename(columns={\"Latency (ns)\": \"x-{}-{}\".format(vendor, qos)},errors=\"raise\",inplace=True)\n",
    "        dfs.append(df)\n",
    "del df\n",
    "#df.describe()\n",
    "df = concat(dfs,\n",
    "            axis=1,\n",
    "            join=\"outer\",\n",
    "            ignore_index=False)\n",
    "\n",
    "del dfs\n",
    "# change ps to us\n",
    "df = df * 10**-6\n",
    "df.describe()"
   ]
  },
  {
   "cell_type": "code",
   "execution_count": 6,
   "id": "5a7a1f46-98ef-4ba6-8503-884ec996fd4f",
   "metadata": {
    "tags": []
   },
   "outputs": [
    {
     "data": {
      "text/html": [
       "<div>\n",
       "<style scoped>\n",
       "    .dataframe tbody tr th:only-of-type {\n",
       "        vertical-align: middle;\n",
       "    }\n",
       "\n",
       "    .dataframe tbody tr th {\n",
       "        vertical-align: top;\n",
       "    }\n",
       "\n",
       "    .dataframe thead th {\n",
       "        text-align: right;\n",
       "    }\n",
       "</style>\n",
       "<table border=\"1\" class=\"dataframe\">\n",
       "  <thead>\n",
       "    <tr style=\"text-align: right;\">\n",
       "      <th></th>\n",
       "      <th>configuration</th>\n",
       "      <th>variable</th>\n",
       "      <th>value</th>\n",
       "    </tr>\n",
       "  </thead>\n",
       "  <tbody>\n",
       "    <tr>\n",
       "      <th>0</th>\n",
       "      <td>SF</td>\n",
       "      <td>delay</td>\n",
       "      <td>48.598</td>\n",
       "    </tr>\n",
       "    <tr>\n",
       "      <th>1</th>\n",
       "      <td>SF</td>\n",
       "      <td>delay</td>\n",
       "      <td>52.342</td>\n",
       "    </tr>\n",
       "    <tr>\n",
       "      <th>2</th>\n",
       "      <td>SF</td>\n",
       "      <td>delay</td>\n",
       "      <td>43.846</td>\n",
       "    </tr>\n",
       "    <tr>\n",
       "      <th>3</th>\n",
       "      <td>SF</td>\n",
       "      <td>delay</td>\n",
       "      <td>47.59</td>\n",
       "    </tr>\n",
       "    <tr>\n",
       "      <th>4</th>\n",
       "      <td>SF</td>\n",
       "      <td>delay</td>\n",
       "      <td>51.334</td>\n",
       "    </tr>\n",
       "    <tr>\n",
       "      <th>...</th>\n",
       "      <td>...</td>\n",
       "      <td>...</td>\n",
       "      <td>...</td>\n",
       "    </tr>\n",
       "    <tr>\n",
       "      <th>59959</th>\n",
       "      <td>FP+CT+TAS</td>\n",
       "      <td>id</td>\n",
       "      <td>F</td>\n",
       "    </tr>\n",
       "    <tr>\n",
       "      <th>59960</th>\n",
       "      <td>FP+CT+TAS</td>\n",
       "      <td>id</td>\n",
       "      <td>F</td>\n",
       "    </tr>\n",
       "    <tr>\n",
       "      <th>59961</th>\n",
       "      <td>FP+CT+TAS</td>\n",
       "      <td>id</td>\n",
       "      <td>F</td>\n",
       "    </tr>\n",
       "    <tr>\n",
       "      <th>59962</th>\n",
       "      <td>FP+CT+TAS</td>\n",
       "      <td>id</td>\n",
       "      <td>F</td>\n",
       "    </tr>\n",
       "    <tr>\n",
       "      <th>59963</th>\n",
       "      <td>FP+CT+TAS</td>\n",
       "      <td>id</td>\n",
       "      <td>F</td>\n",
       "    </tr>\n",
       "  </tbody>\n",
       "</table>\n",
       "<p>59964 rows × 3 columns</p>\n",
       "</div>"
      ],
      "text/plain": [
       "      configuration variable   value\n",
       "0                SF    delay  48.598\n",
       "1                SF    delay  52.342\n",
       "2                SF    delay  43.846\n",
       "3                SF    delay   47.59\n",
       "4                SF    delay  51.334\n",
       "...             ...      ...     ...\n",
       "59959     FP+CT+TAS       id       F\n",
       "59960     FP+CT+TAS       id       F\n",
       "59961     FP+CT+TAS       id       F\n",
       "59962     FP+CT+TAS       id       F\n",
       "59963     FP+CT+TAS       id       F\n",
       "\n",
       "[59964 rows x 3 columns]"
      ]
     },
     "execution_count": 6,
     "metadata": {},
     "output_type": "execute_result"
    }
   ],
   "source": [
    "df5 = pd.DataFrame(df[\"x-OMNeT++-A\"]).assign(configuration=\"SF\").assign(id='A')\n",
    "df5.rename(columns={'x-OMNeT++-A': 'delay'}, inplace=True)\n",
    "df6 = pd.DataFrame(df[\"x-OMNeT++-B\"]).assign(configuration=\"CT\").assign(id='B')\n",
    "df6.rename(columns={'x-OMNeT++-B': 'delay'}, inplace=True)\n",
    "df7 = pd.DataFrame(df[\"x-OMNeT++-C\"]).assign(configuration=\"TAS+CT\").assign(id='C')\n",
    "df7.rename(columns={'x-OMNeT++-C': 'delay'}, inplace=True)\n",
    "df8 = pd.DataFrame(df[\"x-OMNeT++-D\"]).assign(configuration=\"FP+SF\").assign(id='D')\n",
    "df8.rename(columns={'x-OMNeT++-D': 'delay'}, inplace=True)\n",
    "df9 = pd.DataFrame(df[\"x-OMNeT++-E\"]).assign(configuration=\"FP+CT\").assign(id='E')\n",
    "df9.rename(columns={'x-OMNeT++-E': 'delay'}, inplace=True)\n",
    "df10 = pd.DataFrame(df[\"x-OMNeT++-F\"]).assign(configuration=\"FP+CT+TAS\").assign(id='F')\n",
    "df10.rename(columns={'x-OMNeT++-F': 'delay'}, inplace=True)\n",
    "cdf = pd.concat([df5,df6,df7,df8,df9,df10]) \n",
    "mdf = pd.melt(cdf, id_vars=['configuration'])\n",
    "mdf.set_flags(allows_duplicate_labels=False)"
   ]
  },
  {
   "cell_type": "code",
   "execution_count": 7,
   "id": "1b0d43cb-b8cb-4c05-886f-5a20288147fd",
   "metadata": {
    "tags": []
   },
   "outputs": [
    {
     "data": {
      "image/png": "[encoded data removed]",
      "text/plain": [
       "<Figure size 600x400 with 1 Axes>"
      ]
     },
     "metadata": {},
     "output_type": "display_data"
    }
   ],
   "source": [
    "# # For combine feature box plot\n",
    "# - A: no QoS, SF\n",
    "# - B: no QoS, CT\n",
    "# - C: TAS, CT\n",
    "# - D: FP, SF\n",
    "# - E: FP, CT\n",
    "# - F: FP, TAS, CT\n",
    "\n",
    "# In[105]:\n",
    "cdf.reset_index(level=0, inplace=True)\n",
    "\n",
    "colors = [\"#00305d\",  # TUD Blue 100%\n",
    "          \"#2C94CC\",  # ComNets Middle Blue\n",
    "          \"#E20074\",  # ComNets Magenta\n",
    "          #\"#192D64\",\n",
    "          # \"#326491\",\n",
    "          \"#649BBE\",\n",
    "          # \"#A0DCF0\",\n",
    "          \"#0A9BA0\",\n",
    "          # \"#37B48C\",\n",
    "          \"#A0C850\",\n",
    "          # \"#CDDC28\"\n",
    "          ]\n",
    "\n",
    "sns.set_palette(sns.color_palette(colors))\n",
    "\n",
    "fig, ax = plt.subplots(figsize=(6, 4))\n",
    "\n",
    "plt.title(\"Combine Feature Measurement\", loc='left', fontsize=18)\n",
    "plt.title(\"\", loc='right', fontsize=13, color='grey')\n",
    "#plt.ylim(4800,5200)\n",
    "sns.boxplot(x=\"id\", y=\"delay\",hue=\"configuration\", data=cdf, fliersize=1, saturation=1, width=.6)\n",
    "\n",
    "#sns.despine(offset=10, trim=True)\n",
    "\n",
    "#plt.legend(bbox_to_anchor=(0.6, 0.85), loc='lower center', borderaxespad=0, ncol=3)\n",
    "\n",
    "plt.grid(dict(visible=True,\n",
    "              which='major',\n",
    "              color='#CCD6DF',\n",
    "              linestyle='-'))\n",
    "plt.grid(dict(visible=True,\n",
    "              which='minor',\n",
    "              color='#CCD6DF',\n",
    "              linestyle='--'))\n",
    "\n",
    "ax.set_ylabel(\"Delay [us]\")\n",
    "ax.set_xlabel('Config')\n",
    "\n",
    "plt.tight_layout()\n",
    "\n",
    "#plt.savefig(OUTPUT_PATH_ROOT +'combineFeature.png', dpi=300)\n",
    "plt.show()\n",
    "\n",
    "\n",
    "# ## OMNeT++ vector approach\n",
    "# - extract meanBitLifeTime vector"
   ]
  },
  {
   "cell_type": "code",
   "execution_count": 8,
   "id": "1f4623ed-c299-4562-946f-c25b49f9ef42",
   "metadata": {
    "tags": []
   },
   "outputs": [
    {
     "name": "stderr",
     "output_type": "stream",
     "text": [
      "sh: 1: tshark: not found\n",
      "sh: 1: tshark: not found\n",
      "sh: 1: tshark: not found\n",
      "sh: 1: tshark: not found\n",
      "sh: 1: tshark: not found\n",
      "sh: 1: tshark: not found\n"
     ]
    },
    {
     "name": "stdout",
     "output_type": "stream",
     "text": [
      "QoS: A, Arch: OMNeT++\n",
      "count    4997.000000\n",
      "mean       47.292701\n",
      "std         3.533260\n",
      "min        41.205999\n",
      "25%        44.229999\n",
      "50%        47.301999\n",
      "75%        50.326000\n",
      "max        53.398000\n",
      "Name: Latency (ns), dtype: float64\n",
      "Outlier-0\n",
      "lower whisker=41.205999,\n",
      "lower quartile=44.229999,\n",
      "median=47.301998999999995,\n",
      "upper quartile=50.326,\n",
      "upper whisker=53.397999999999996\n",
      "\n",
      "QoS: B, Arch: OMNeT++\n",
      "count    4997.000000\n",
      "mean       19.172371\n",
      "std         3.536527\n",
      "min        12.637999\n",
      "25%        16.122999\n",
      "50%        19.146999\n",
      "75%        22.219000\n",
      "max        25.339000\n",
      "Name: Latency (ns), dtype: float64\n",
      "Outlier-1\n",
      "lower whisker=12.637998999999999,\n",
      "lower quartile=16.122999,\n",
      "median=19.146998999999997,\n",
      "upper quartile=22.218999999999998,\n",
      "upper whisker=25.339\n",
      "\n",
      "QoS: C, Arch: OMNeT++\n",
      "count    4.997000e+03\n",
      "mean     8.103000e+00\n",
      "std      4.105361e-07\n",
      "min      8.102999e+00\n",
      "25%      8.103000e+00\n",
      "50%      8.103000e+00\n",
      "75%      8.103000e+00\n",
      "max      8.103000e+00\n",
      "Name: Latency (ns), dtype: float64\n",
      "Outlier-2\n",
      "lower whisker=8.103,\n",
      "lower quartile=8.103,\n",
      "median=8.103,\n",
      "upper quartile=8.103,\n",
      "upper whisker=8.103\n",
      "\n",
      "QoS: D, Arch: OMNeT++\n",
      "count    4997.000000\n",
      "mean       33.545376\n",
      "std         3.391600\n",
      "min        29.149499\n",
      "25%        30.297499\n",
      "50%        33.374500\n",
      "75%        36.417499\n",
      "max        41.045500\n",
      "Name: Latency (ns), dtype: float64\n",
      "Outlier-3\n",
      "lower whisker=29.149499,\n",
      "lower quartile=30.297499,\n",
      "median=33.3745,\n",
      "upper quartile=36.417499,\n",
      "upper whisker=41.0455\n",
      "\n",
      "QoS: E, Arch: OMNeT++\n",
      "count    4997.000000\n",
      "mean       14.401370\n",
      "std         3.536250\n",
      "min         8.197499\n",
      "25%        11.282499\n",
      "50%        14.418499\n",
      "75%        17.466499\n",
      "max        20.664499\n",
      "Name: Latency (ns), dtype: float64\n",
      "Outlier-4\n",
      "lower whisker=8.197498999999999,\n",
      "lower quartile=11.282499,\n",
      "median=14.418498999999999,\n",
      "upper quartile=17.466499,\n",
      "upper whisker=20.664499\n",
      "\n",
      "QoS: F, Arch: OMNeT++\n",
      "count    4.997000e+03\n",
      "mean     8.095499e+00\n",
      "std      4.984373e-07\n",
      "min      8.095499e+00\n",
      "25%      8.095499e+00\n",
      "50%      8.095499e+00\n",
      "75%      8.095500e+00\n",
      "max      8.095500e+00\n",
      "Name: Latency (ns), dtype: float64\n",
      "Outlier-5\n",
      "lower whisker=8.095499,\n",
      "lower quartile=8.095499,\n",
      "median=8.095499,\n",
      "upper quartile=8.0955,\n",
      "upper whisker=8.0955\n",
      "\n"
     ]
    }
   ],
   "source": [
    "from matplotlib.cbook import boxplot_stats\n",
    "from pandas import read_csv, concat, cut, DataFrame\n",
    "dfs = {}\n",
    "\n",
    "for arch, config in CONFIGURATION.items():\n",
    "    dfs[arch] = {}\n",
    "    for qos, pcap in config.items():\n",
    "        input_path = \"{}/{}\".format(SOURCE_PATH_ROOT, pcap)\n",
    "        output_path = \"{}/{}/{}\".format(OUTPUT_PATH_ROOT, arch, qos)\n",
    "        pp = TsnParsePcap(path=input_path,\n",
    "                          mapping=mapping,\n",
    "                          output_path=output_path,\n",
    "                          omnet_ts = True\n",
    "                         )\n",
    "        pp.pcap_to_dfs()\n",
    "        d = pp.get_dfs()\n",
    "        dfs[arch][qos] = d[0]\n",
    "\n",
    "fp = []\n",
    "counter = 0\n",
    "\n",
    "qos = [\"A\",\n",
    "       \"B\",\n",
    "       \"C\",\n",
    "       \"D\",\n",
    "       \"E\",\n",
    "       \"F\"]\n",
    "\n",
    "arch = [\"OMNeT++\"]\n",
    "        #,\"SIM\"]\n",
    "\n",
    "for q in qos:\n",
    "    for a in arch:\n",
    "        print(\"QoS: {}, Arch: {}\".format(q, a))\n",
    "        df = dfs[a][q][\"Latency (ns)\"].astype(int)\n",
    "        # for max and min\n",
    "        df_describe = df\n",
    "        df_describe = df_describe*10**-6\n",
    "        print(df_describe.describe())\n",
    "        s = boxplot_stats(df.values)[0]\n",
    "        fp.append(DataFrame(s['fliers'].tolist(), columns=[\"Outlier-{}\".format(counter)]))\n",
    "        print(\"Outlier-{}\".format(counter))\n",
    "        print(\"lower whisker={},\".format(s['whislo']*10**-6))\n",
    "        print(\"lower quartile={},\".format(s['q1']*10**-6))\n",
    "        print(\"median={},\".format(s['med']*10**-6))\n",
    "        print(\"upper quartile={},\".format(s['q3']*10**-6))\n",
    "        print(\"upper whisker={}\\n\".format(s['whishi']*10**-6))\n",
    "        counter += 1\n",
    "\n",
    "outliers_df = concat(fp, axis=1)\n",
    "outliers_df = outliers_df * 10 ** -6\n",
    "outliers_df.to_csv(\"/home/howhang/Desktop/pgf-test-range/validation/boxplot_outlier/fp_outliers_omnet.csv\", sep=\"\\t\", index=False)"
   ]
  },
  {
   "cell_type": "markdown",
   "id": "271e5e58-3ede-4b5e-ac31-c89bf6858a58",
   "metadata": {},
   "source": [
    "QoS: SF, Arch: HW\n",
    "Outlier-0\n",
    "lower whisker=34893,\n",
    "lower quartile=40137.75,\n",
    "median=43213.0,\n",
    "upper quartile=46292.0,\n",
    "upper whisker=53121\n",
    "\n",
    "QoS: CT, Arch: HW\n",
    "Outlier-1\n",
    "lower whisker=12473,\n",
    "lower quartile=17933.0,\n",
    "median=21061.5,\n",
    "upper quartile=24132.0,\n",
    "upper whisker=30780\n",
    "\n",
    "QoS: TAS CT, Arch: HW\n",
    "Outlier-2\n",
    "lower whisker=7335,\n",
    "lower quartile=7451.0,\n",
    "median=7508.0,\n",
    "upper quartile=7567.0,\n",
    "upper whisker=7684\n",
    "\n",
    "QoS: FP SF, Arch: HW\n",
    "Outlier-3\n",
    "lower whisker=29246,\n",
    "lower quartile=29430.0,\n",
    "median=29513.0,\n",
    "upper quartile=30839.25,\n",
    "upper whisker=32953\n",
    "\n",
    "QoS: FP CT, Arch: HW\n",
    "Outlier-4\n",
    "lower whisker=7349,\n",
    "lower quartile=9972.75,\n",
    "median=12958.0,\n",
    "upper quartile=16115.0,\n",
    "upper whisker=20196\n",
    "\n",
    "QoS: FP TAS CT, Arch: HW\n",
    "Outlier-5\n",
    "lower whisker=7337,\n",
    "lower quartile=7454.0,\n",
    "median=7513.0,\n",
    "upper quartile=7572.0,\n",
    "upper whisker=7691\n"
   ]
  },
  {
   "cell_type": "code",
   "execution_count": 13,
   "id": "d7feecac-3e26-4d8f-9144-9393d1d52fdb",
   "metadata": {
    "tags": []
   },
   "outputs": [
    {
     "data": {
      "text/plain": [
       "0.3774999999999977"
      ]
     },
     "execution_count": 13,
     "metadata": {},
     "output_type": "execute_result"
    }
   ],
   "source": [
    "40.574999-32.997\n",
    "33.3745-32.997"
   ]
  },
  {
   "cell_type": "code",
   "execution_count": 14,
   "id": "1788fe37-4d5e-4ab4-90a0-8da24b3a7693",
   "metadata": {
    "tags": []
   },
   "outputs": [
    {
     "data": {
      "text/plain": [
       "-1.0749989999999983"
      ]
     },
     "execution_count": 14,
     "metadata": {},
     "output_type": "execute_result"
    }
   ],
   "source": [
    "21.047-13.3435\n",
    "13.3435-14.418498999999999"
   ]
  },
  {
   "cell_type": "code",
   "execution_count": 15,
   "id": "263de4c7-63a7-4a87-beb7-c9543bd46732",
   "metadata": {
    "tags": []
   },
   "outputs": [
    {
     "data": {
      "text/plain": [
       "0.5824990000000003"
      ]
     },
     "execution_count": 15,
     "metadata": {},
     "output_type": "execute_result"
    }
   ],
   "source": [
    "17.111-7.513\n",
    "8.095499-7.513"
   ]
  }
 ],
 "metadata": {
  "kernelspec": {
   "display_name": "Python 3 (ipykernel)",
   "language": "python",
   "name": "python3"
  },
  "language_info": {
   "codemirror_mode": {
    "name": "ipython",
    "version": 3
   },
   "file_extension": ".py",
   "mimetype": "text/x-python",
   "name": "python",
   "nbconvert_exporter": "python",
   "pygments_lexer": "ipython3",
   "version": "3.10.12"
  }
 },
 "nbformat": 4,
 "nbformat_minor": 5
}

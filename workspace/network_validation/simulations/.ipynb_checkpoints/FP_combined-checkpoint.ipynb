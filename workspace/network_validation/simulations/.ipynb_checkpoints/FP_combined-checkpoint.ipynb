{
 "cells": [
  {
   "cell_type": "markdown",
   "id": "c5e9a277-8cdf-4198-913b-ac22b752fb46",
   "metadata": {
    "toc-hr-collapsed": true
   },
   "source": [
    "# FP"
   ]
  },
  {
   "cell_type": "code",
   "execution_count": 1,
   "id": "3f947d3c-0f59-497b-be1f-e20e7b7ef0e2",
   "metadata": {
    "tags": []
   },
   "outputs": [],
   "source": [
    "# import\n",
    "import os\n",
    "import pandas as pd\n",
    "import numpy as np\n",
    "import matplotlib.pyplot as plt\n",
    "import shutil\n",
    "import seaborn as sns"
   ]
  },
  {
   "cell_type": "code",
   "execution_count": 39,
   "id": "d4269811-1d8a-4025-8259-936db6355092",
   "metadata": {
    "tags": []
   },
   "outputs": [],
   "source": [
    "config = [\n",
    "    'final_A_combined',\n",
    "    'final_B_combined',\n",
    "    'final_C_combined',\n",
    "    'final_D_combined',\n",
    "    'final_E_combined',\n",
    "    'final_F_combined'\n",
    "]"
   ]
  },
  {
   "cell_type": "code",
   "execution_count": 35,
   "id": "b1dc6892-9e2e-4b3f-b080-8482586964c8",
   "metadata": {
    "tags": []
   },
   "outputs": [],
   "source": [
    "#!pwd\n",
    "#os.chdir(\"/home/howhang/omnetpp-6.0-linux-x86_64/omnetpp-6.0/samples/omnetpp/validation_paper/simulations\")\n",
    "#!pwd"
   ]
  },
  {
   "cell_type": "code",
   "execution_count": null,
   "id": "a1c63261-a04a-43e0-a967-88ed4f63d65d",
   "metadata": {
    "tags": []
   },
   "outputs": [],
   "source": [
    "os.chdir(\"/home/howhang/omnet_validation/workspace/network_validation/simulations\")\n",
    "command_run = \"../network_validation --sim-time-limit 0.1s -r 0 -m -u Cmdenv -c {} -n .:../src:../../../../inet4.4/examples:../../../../inet4.4/showcases:../../../../inet4.4/src:../../../../inet4.4/tests/validation:../../../../inet4.4/tests/networks:../../../../inet4.4/tutorials -x inet.common.selfdoc;inet.linklayer.configurator.gatescheduling.z3;inet.emulation;inet.showcases.visualizer.osg;inet.examples.emulation;inet.showcases.emulation;inet.transportlayer.tcp_lwip;inet.applications.voipstream;inet.visualizer.osg;inet.examples.voipstream --image-path=../../../../inet4.4/images -l ../../../../inet4.4/src/INET omnetpp.ini\"\n",
    "for i in config:\n",
    "    os.system(command_run.format(i))"
   ]
  },
  {
   "cell_type": "markdown",
   "id": "a94aef3d-c4a6-4957-bc76-ac78891368d9",
   "metadata": {},
   "source": [
    "## FP plot"
   ]
  },
  {
   "cell_type": "code",
   "execution_count": 1,
   "id": "3eec430c-c3d3-4f7c-936b-0616d238b1aa",
   "metadata": {
    "tags": []
   },
   "outputs": [
    {
     "name": "stdout",
     "output_type": "stream",
     "text": [
      "/home/howhang/omnet_validation/plot\n"
     ]
    }
   ],
   "source": [
    "import os\n",
    "os.chdir(\"/home/howhang/omnet_validation/plot\")\n",
    "!pwd"
   ]
  },
  {
   "cell_type": "code",
   "execution_count": 2,
   "id": "4eeefb3e-325a-4f20-98e6-989b8fb6746a",
   "metadata": {
    "tags": []
   },
   "outputs": [],
   "source": [
    "# In[1]:\n",
    "from utils.parsePcap import TsnParsePcap\n",
    "from utils.createPlot import TsnCreatePlot\n",
    "from pandas import read_csv, concat, cut\n",
    "import matplotlib.pyplot as plt\n",
    "import seaborn as sns\n",
    "import pandas as pd"
   ]
  },
  {
   "cell_type": "code",
   "execution_count": 6,
   "id": "dab47f20-acbf-4d58-9538-47dcd136ab73",
   "metadata": {
    "tags": []
   },
   "outputs": [],
   "source": [
    "# In[92]:\n",
    "CONFIGURATION = {\n",
    "    \"OMNeT++\": {\n",
    "                     \"A\": \"omnet_robotic-NULL-NULL_final-A_1518_200.0percent.pcap\",\n",
    "                     \"B\": \"omnet_robotic-NULL-NULL_final-B_1518_200.0percent.pcap\",\n",
    "                     \"C\": \"omnet_robotic-NULL-NULL_final-C_1518_200.0percent.pcap\",\n",
    "                     \"D\": \"omnet_robotic-NULL-NULL_final-D_1518_200.0percent.pcap\",\n",
    "                     \"E\": \"omnet_robotic-NULL-NULL_final-E_1518_200.0percent.pcap\",\n",
    "                     \"F\": \"omnet_robotic-NULL-NULL_final-F_1518_200.0percent.pcap\",\n",
    "    }\n",
    "}\n",
    "\n",
    "SOURCE_PATH_ROOT = \"../workspace/network_validation/simulations/results/final\"\n",
    "OUTPUT_PATH_ROOT = \"./\"\n",
    "mapping = {2: \"robotic\"}"
   ]
  },
  {
   "cell_type": "code",
   "execution_count": 7,
   "id": "7da45bb4-0f09-44ad-ac30-6821f5d5d1c3",
   "metadata": {
    "tags": []
   },
   "outputs": [
    {
     "name": "stderr",
     "output_type": "stream",
     "text": [
      "sh: 1: tshark: not found\n",
      "sh: 1: tshark: not found\n",
      "sh: 1: tshark: not found\n",
      "sh: 1: tshark: not found\n",
      "sh: 1: tshark: not found\n",
      "sh: 1: tshark: not found\n"
     ]
    }
   ],
   "source": [
    "# In[103]:\n",
    "dfs = []\n",
    "\n",
    "for vendor, config in CONFIGURATION.items():\n",
    "    for qos, pcap in config.items():\n",
    "        input_path = \"{}/{}\".format(SOURCE_PATH_ROOT, pcap)\n",
    "        output_path = \"{}/{}/{}\".format(OUTPUT_PATH_ROOT, vendor, qos)\n",
    "        pp = TsnParsePcap(path=input_path,\n",
    "                          mapping=mapping,\n",
    "                          output_path=output_path,\n",
    "                          omnet_ts=True)\n",
    "        pp.pcap_to_dfs()\n",
    "        d = pp.get_dfs()\n",
    "        dfs.append(d)\n",
    "\n",
    "        cp = TsnCreatePlot(dfs=d,\n",
    "                           output_path=output_path,\n",
    "                           mapping=mapping,\n",
    "                           bg_load=0,\n",
    "                           bg_framesize=1518,\n",
    "                           qos_type=\"None\")\n",
    "        cp.generate_plots(plot_type=\"latency_over_time\", output=\"csv\")\n",
    "        # cp.generate_plots(plot_type=\"latency_ccdf\", output=\"mpl\")\n"
   ]
  },
  {
   "cell_type": "code",
   "execution_count": 8,
   "id": "1600d067-287d-40aa-9bc7-134dba0a4d21",
   "metadata": {
    "tags": []
   },
   "outputs": [
    {
     "name": "stdout",
     "output_type": "stream",
     "text": [
      ".//OMNeT++/A/csv/latency_over_time_robotic.csv\n",
      ".//OMNeT++/B/csv/latency_over_time_robotic.csv\n",
      ".//OMNeT++/C/csv/latency_over_time_robotic.csv\n",
      ".//OMNeT++/D/csv/latency_over_time_robotic.csv\n",
      ".//OMNeT++/E/csv/latency_over_time_robotic.csv\n",
      ".//OMNeT++/F/csv/latency_over_time_robotic.csv\n"
     ]
    },
    {
     "data": {
      "text/html": [
       "<div>\n",
       "<style scoped>\n",
       "    .dataframe tbody tr th:only-of-type {\n",
       "        vertical-align: middle;\n",
       "    }\n",
       "\n",
       "    .dataframe tbody tr th {\n",
       "        vertical-align: top;\n",
       "    }\n",
       "\n",
       "    .dataframe thead th {\n",
       "        text-align: right;\n",
       "    }\n",
       "</style>\n",
       "<table border=\"1\" class=\"dataframe\">\n",
       "  <thead>\n",
       "    <tr style=\"text-align: right;\">\n",
       "      <th></th>\n",
       "      <th>x-OMNeT++-A</th>\n",
       "      <th>x-OMNeT++-B</th>\n",
       "      <th>x-OMNeT++-C</th>\n",
       "      <th>x-OMNeT++-D</th>\n",
       "      <th>x-OMNeT++-E</th>\n",
       "      <th>x-OMNeT++-F</th>\n",
       "    </tr>\n",
       "  </thead>\n",
       "  <tbody>\n",
       "    <tr>\n",
       "      <th>count</th>\n",
       "      <td>4997.000000</td>\n",
       "      <td>4997.000000</td>\n",
       "      <td>4.997000e+03</td>\n",
       "      <td>4997.000000</td>\n",
       "      <td>4997.000000</td>\n",
       "      <td>4.997000e+03</td>\n",
       "    </tr>\n",
       "    <tr>\n",
       "      <th>mean</th>\n",
       "      <td>47.292702</td>\n",
       "      <td>19.172372</td>\n",
       "      <td>8.103000e+00</td>\n",
       "      <td>41.423861</td>\n",
       "      <td>21.886784</td>\n",
       "      <td>1.711100e+01</td>\n",
       "    </tr>\n",
       "    <tr>\n",
       "      <th>std</th>\n",
       "      <td>3.533260</td>\n",
       "      <td>3.536527</td>\n",
       "      <td>9.148102e-11</td>\n",
       "      <td>3.400632</td>\n",
       "      <td>3.398607</td>\n",
       "      <td>4.585902e-11</td>\n",
       "    </tr>\n",
       "    <tr>\n",
       "      <th>min</th>\n",
       "      <td>41.206000</td>\n",
       "      <td>12.638000</td>\n",
       "      <td>8.103000e+00</td>\n",
       "      <td>36.831000</td>\n",
       "      <td>17.303000</td>\n",
       "      <td>1.711100e+01</td>\n",
       "    </tr>\n",
       "    <tr>\n",
       "      <th>25%</th>\n",
       "      <td>44.230000</td>\n",
       "      <td>16.123000</td>\n",
       "      <td>8.103000e+00</td>\n",
       "      <td>38.559000</td>\n",
       "      <td>19.031000</td>\n",
       "      <td>1.711100e+01</td>\n",
       "    </tr>\n",
       "    <tr>\n",
       "      <th>50%</th>\n",
       "      <td>47.302000</td>\n",
       "      <td>19.147000</td>\n",
       "      <td>8.103000e+00</td>\n",
       "      <td>40.575000</td>\n",
       "      <td>21.047000</td>\n",
       "      <td>1.711100e+01</td>\n",
       "    </tr>\n",
       "    <tr>\n",
       "      <th>75%</th>\n",
       "      <td>50.326000</td>\n",
       "      <td>22.219000</td>\n",
       "      <td>8.103000e+00</td>\n",
       "      <td>44.319000</td>\n",
       "      <td>24.791000</td>\n",
       "      <td>1.711100e+01</td>\n",
       "    </tr>\n",
       "    <tr>\n",
       "      <th>max</th>\n",
       "      <td>53.398000</td>\n",
       "      <td>25.339000</td>\n",
       "      <td>8.103000e+00</td>\n",
       "      <td>48.063000</td>\n",
       "      <td>28.535000</td>\n",
       "      <td>1.711100e+01</td>\n",
       "    </tr>\n",
       "  </tbody>\n",
       "</table>\n",
       "</div>"
      ],
      "text/plain": [
       "       x-OMNeT++-A  x-OMNeT++-B   x-OMNeT++-C  x-OMNeT++-D  x-OMNeT++-E  \\\n",
       "count  4997.000000  4997.000000  4.997000e+03  4997.000000  4997.000000   \n",
       "mean     47.292702    19.172372  8.103000e+00    41.423861    21.886784   \n",
       "std       3.533260     3.536527  9.148102e-11     3.400632     3.398607   \n",
       "min      41.206000    12.638000  8.103000e+00    36.831000    17.303000   \n",
       "25%      44.230000    16.123000  8.103000e+00    38.559000    19.031000   \n",
       "50%      47.302000    19.147000  8.103000e+00    40.575000    21.047000   \n",
       "75%      50.326000    22.219000  8.103000e+00    44.319000    24.791000   \n",
       "max      53.398000    25.339000  8.103000e+00    48.063000    28.535000   \n",
       "\n",
       "        x-OMNeT++-F  \n",
       "count  4.997000e+03  \n",
       "mean   1.711100e+01  \n",
       "std    4.585902e-11  \n",
       "min    1.711100e+01  \n",
       "25%    1.711100e+01  \n",
       "50%    1.711100e+01  \n",
       "75%    1.711100e+01  \n",
       "max    1.711100e+01  "
      ]
     },
     "execution_count": 8,
     "metadata": {},
     "output_type": "execute_result"
    }
   ],
   "source": [
    "dfs = []\n",
    "\n",
    "for vendor, config in CONFIGURATION.items():\n",
    "    for qos, pcap in config.items():\n",
    "        filepath = \"{}/{}/{}/csv/latency_over_time_robotic.csv\".format(OUTPUT_PATH_ROOT, vendor, qos)\n",
    "        print(filepath)\n",
    "        df = read_csv(filepath)        \n",
    "        df = df[[\"Latency (ns)\"]]\n",
    "        df.rename(columns={\"Latency (ns)\": \"x-{}-{}\".format(vendor, qos)},errors=\"raise\",inplace=True)\n",
    "        dfs.append(df)\n",
    "del df\n",
    "#df.describe()\n",
    "df = concat(dfs,\n",
    "            axis=1,\n",
    "            join=\"outer\",\n",
    "            ignore_index=False)\n",
    "\n",
    "del dfs\n",
    "# change ps to us\n",
    "df = df * 10**-6\n",
    "df.describe()"
   ]
  },
  {
   "cell_type": "code",
   "execution_count": 10,
   "id": "5a7a1f46-98ef-4ba6-8503-884ec996fd4f",
   "metadata": {
    "tags": []
   },
   "outputs": [
    {
     "data": {
      "text/html": [
       "<div>\n",
       "<style scoped>\n",
       "    .dataframe tbody tr th:only-of-type {\n",
       "        vertical-align: middle;\n",
       "    }\n",
       "\n",
       "    .dataframe tbody tr th {\n",
       "        vertical-align: top;\n",
       "    }\n",
       "\n",
       "    .dataframe thead th {\n",
       "        text-align: right;\n",
       "    }\n",
       "</style>\n",
       "<table border=\"1\" class=\"dataframe\">\n",
       "  <thead>\n",
       "    <tr style=\"text-align: right;\">\n",
       "      <th></th>\n",
       "      <th>configuration</th>\n",
       "      <th>variable</th>\n",
       "      <th>value</th>\n",
       "    </tr>\n",
       "  </thead>\n",
       "  <tbody>\n",
       "    <tr>\n",
       "      <th>0</th>\n",
       "      <td>SF</td>\n",
       "      <td>delay</td>\n",
       "      <td>48.598</td>\n",
       "    </tr>\n",
       "    <tr>\n",
       "      <th>1</th>\n",
       "      <td>SF</td>\n",
       "      <td>delay</td>\n",
       "      <td>52.342</td>\n",
       "    </tr>\n",
       "    <tr>\n",
       "      <th>2</th>\n",
       "      <td>SF</td>\n",
       "      <td>delay</td>\n",
       "      <td>43.846</td>\n",
       "    </tr>\n",
       "    <tr>\n",
       "      <th>3</th>\n",
       "      <td>SF</td>\n",
       "      <td>delay</td>\n",
       "      <td>47.59</td>\n",
       "    </tr>\n",
       "    <tr>\n",
       "      <th>4</th>\n",
       "      <td>SF</td>\n",
       "      <td>delay</td>\n",
       "      <td>51.334</td>\n",
       "    </tr>\n",
       "    <tr>\n",
       "      <th>...</th>\n",
       "      <td>...</td>\n",
       "      <td>...</td>\n",
       "      <td>...</td>\n",
       "    </tr>\n",
       "    <tr>\n",
       "      <th>59959</th>\n",
       "      <td>FP+CT+TAS</td>\n",
       "      <td>id</td>\n",
       "      <td>F</td>\n",
       "    </tr>\n",
       "    <tr>\n",
       "      <th>59960</th>\n",
       "      <td>FP+CT+TAS</td>\n",
       "      <td>id</td>\n",
       "      <td>F</td>\n",
       "    </tr>\n",
       "    <tr>\n",
       "      <th>59961</th>\n",
       "      <td>FP+CT+TAS</td>\n",
       "      <td>id</td>\n",
       "      <td>F</td>\n",
       "    </tr>\n",
       "    <tr>\n",
       "      <th>59962</th>\n",
       "      <td>FP+CT+TAS</td>\n",
       "      <td>id</td>\n",
       "      <td>F</td>\n",
       "    </tr>\n",
       "    <tr>\n",
       "      <th>59963</th>\n",
       "      <td>FP+CT+TAS</td>\n",
       "      <td>id</td>\n",
       "      <td>F</td>\n",
       "    </tr>\n",
       "  </tbody>\n",
       "</table>\n",
       "<p>59964 rows × 3 columns</p>\n",
       "</div>"
      ],
      "text/plain": [
       "      configuration variable   value\n",
       "0                SF    delay  48.598\n",
       "1                SF    delay  52.342\n",
       "2                SF    delay  43.846\n",
       "3                SF    delay   47.59\n",
       "4                SF    delay  51.334\n",
       "...             ...      ...     ...\n",
       "59959     FP+CT+TAS       id       F\n",
       "59960     FP+CT+TAS       id       F\n",
       "59961     FP+CT+TAS       id       F\n",
       "59962     FP+CT+TAS       id       F\n",
       "59963     FP+CT+TAS       id       F\n",
       "\n",
       "[59964 rows x 3 columns]"
      ]
     },
     "execution_count": 10,
     "metadata": {},
     "output_type": "execute_result"
    }
   ],
   "source": [
    "df5 = pd.DataFrame(df[\"x-OMNeT++-A\"]).assign(configuration=\"SF\").assign(id='A')\n",
    "df5.rename(columns={'x-OMNeT++-A': 'delay'}, inplace=True)\n",
    "df6 = pd.DataFrame(df[\"x-OMNeT++-B\"]).assign(configuration=\"CT\").assign(id='B')\n",
    "df6.rename(columns={'x-OMNeT++-B': 'delay'}, inplace=True)\n",
    "df7 = pd.DataFrame(df[\"x-OMNeT++-C\"]).assign(configuration=\"TAS+CT\").assign(id='C')\n",
    "df7.rename(columns={'x-OMNeT++-C': 'delay'}, inplace=True)\n",
    "df8 = pd.DataFrame(df[\"x-OMNeT++-D\"]).assign(configuration=\"FP+SF\").assign(id='D')\n",
    "df8.rename(columns={'x-OMNeT++-D': 'delay'}, inplace=True)\n",
    "df9 = pd.DataFrame(df[\"x-OMNeT++-E\"]).assign(configuration=\"FP+CT\").assign(id='E')\n",
    "df9.rename(columns={'x-OMNeT++-E': 'delay'}, inplace=True)\n",
    "df10 = pd.DataFrame(df[\"x-OMNeT++-F\"]).assign(configuration=\"FP+CT+TAS\").assign(id='F')\n",
    "df10.rename(columns={'x-OMNeT++-F': 'delay'}, inplace=True)\n",
    "cdf = pd.concat([df5,df6,df7,df8,df9,df10]) \n",
    "mdf = pd.melt(cdf, id_vars=['configuration'])\n",
    "mdf.set_flags(allows_duplicate_labels=False)"
   ]
  },
  {
   "cell_type": "code",
   "execution_count": 11,
   "id": "1b0d43cb-b8cb-4c05-886f-5a20288147fd",
   "metadata": {
    "tags": []
   },
   "outputs": [
    {
     "data": {
      "image/png": "[encoded data removed]",
      "text/plain": [
       "<Figure size 600x400 with 1 Axes>"
      ]
     },
     "metadata": {},
     "output_type": "display_data"
    }
   ],
   "source": [
    "# # For combine feature box plot\n",
    "# - A: no QoS, SF\n",
    "# - B: no QoS, CT\n",
    "# - C: TAS, CT\n",
    "# - D: FP, SF\n",
    "# - E: FP, CT\n",
    "# - F: FP, TAS, CT\n",
    "\n",
    "# In[105]:\n",
    "cdf.reset_index(level=0, inplace=True)\n",
    "\n",
    "colors = [\"#00305d\",  # TUD Blue 100%\n",
    "          \"#2C94CC\",  # ComNets Middle Blue\n",
    "          \"#E20074\",  # ComNets Magenta\n",
    "          #\"#192D64\",\n",
    "          # \"#326491\",\n",
    "          \"#649BBE\",\n",
    "          # \"#A0DCF0\",\n",
    "          \"#0A9BA0\",\n",
    "          # \"#37B48C\",\n",
    "          \"#A0C850\",\n",
    "          # \"#CDDC28\"\n",
    "          ]\n",
    "\n",
    "sns.set_palette(sns.color_palette(colors))\n",
    "\n",
    "fig, ax = plt.subplots(figsize=(6, 4))\n",
    "\n",
    "plt.title(\"Combine Feature Measurement\", loc='left', fontsize=18)\n",
    "plt.title(\"\", loc='right', fontsize=13, color='grey')\n",
    "#plt.ylim(4800,5200)\n",
    "sns.boxplot(x=\"id\", y=\"delay\",hue=\"configuration\", data=cdf, fliersize=1, saturation=1, width=.6)\n",
    "\n",
    "#sns.despine(offset=10, trim=True)\n",
    "\n",
    "#plt.legend(bbox_to_anchor=(0.6, 0.85), loc='lower center', borderaxespad=0, ncol=3)\n",
    "\n",
    "plt.grid(dict(visible=True,\n",
    "              which='major',\n",
    "              color='#CCD6DF',\n",
    "              linestyle='-'))\n",
    "plt.grid(dict(visible=True,\n",
    "              which='minor',\n",
    "              color='#CCD6DF',\n",
    "              linestyle='--'))\n",
    "\n",
    "ax.set_ylabel(\"Delay [us]\")\n",
    "ax.set_xlabel('Config')\n",
    "\n",
    "plt.tight_layout()\n",
    "\n",
    "#plt.savefig(OUTPUT_PATH_ROOT +'combineFeature.png', dpi=300)\n",
    "plt.show()\n",
    "\n",
    "\n",
    "# ## OMNeT++ vector approach\n",
    "# - extract meanBitLifeTime vector"
   ]
  },
  {
   "cell_type": "code",
   "execution_count": 16,
   "id": "1f4623ed-c299-4562-946f-c25b49f9ef42",
   "metadata": {
    "tags": []
   },
   "outputs": [
    {
     "name": "stderr",
     "output_type": "stream",
     "text": [
      "sh: 1: tshark: not found\n",
      "sh: 1: tshark: not found\n",
      "sh: 1: tshark: not found\n",
      "sh: 1: tshark: not found\n",
      "sh: 1: tshark: not found\n",
      "sh: 1: tshark: not found\n"
     ]
    },
    {
     "name": "stdout",
     "output_type": "stream",
     "text": [
      "QoS: A, Arch: OMNeT++\n",
      "Outlier-0\n",
      "lower whisker=41.205999,\n",
      "lower quartile=44.229999,\n",
      "median=47.301998999999995,\n",
      "upper quartile=50.326,\n",
      "upper whisker=53.397999999999996\n",
      "\n",
      "QoS: B, Arch: OMNeT++\n",
      "Outlier-1\n",
      "lower whisker=12.637998999999999,\n",
      "lower quartile=16.122999,\n",
      "median=19.146998999999997,\n",
      "upper quartile=22.218999999999998,\n",
      "upper whisker=25.339\n",
      "\n",
      "QoS: C, Arch: OMNeT++\n",
      "Outlier-2\n",
      "lower whisker=8.103,\n",
      "lower quartile=8.103,\n",
      "median=8.103,\n",
      "upper quartile=8.103,\n",
      "upper whisker=8.103\n",
      "\n",
      "QoS: D, Arch: OMNeT++\n",
      "Outlier-3\n",
      "lower whisker=36.830999,\n",
      "lower quartile=38.558999,\n",
      "median=40.574999,\n",
      "upper quartile=44.318999999999996,\n",
      "upper whisker=48.062999999999995\n",
      "\n",
      "QoS: E, Arch: OMNeT++\n",
      "Outlier-4\n",
      "lower whisker=17.302999,\n",
      "lower quartile=19.030998999999998,\n",
      "median=21.047,\n",
      "upper quartile=24.790999,\n",
      "upper whisker=28.535\n",
      "\n",
      "QoS: F, Arch: OMNeT++\n",
      "Outlier-5\n",
      "lower whisker=17.111,\n",
      "lower quartile=17.111,\n",
      "median=17.111,\n",
      "upper quartile=17.111,\n",
      "upper whisker=17.111\n",
      "\n"
     ]
    },
    {
     "ename": "OSError",
     "evalue": "Cannot save file into a non-existent directory: '/home/howhang/Desktop/pfg-test-range/validation_paper/boxplot_outlier'",
     "output_type": "error",
     "traceback": [
      "\u001b[0;31m---------------------------------------------------------------------------\u001b[0m",
      "\u001b[0;31mOSError\u001b[0m                                   Traceback (most recent call last)",
      "Cell \u001b[0;32mIn[16], line 48\u001b[0m\n\u001b[1;32m     46\u001b[0m outliers_df \u001b[38;5;241m=\u001b[39m concat(fp, axis\u001b[38;5;241m=\u001b[39m\u001b[38;5;241m1\u001b[39m)\n\u001b[1;32m     47\u001b[0m outliers_df \u001b[38;5;241m=\u001b[39m outliers_df \u001b[38;5;241m*\u001b[39m \u001b[38;5;241m10\u001b[39m \u001b[38;5;241m*\u001b[39m\u001b[38;5;241m*\u001b[39m \u001b[38;5;241m-\u001b[39m\u001b[38;5;241m6\u001b[39m\n\u001b[0;32m---> 48\u001b[0m \u001b[43moutliers_df\u001b[49m\u001b[38;5;241;43m.\u001b[39;49m\u001b[43mto_csv\u001b[49m\u001b[43m(\u001b[49m\u001b[38;5;124;43m\"\u001b[39;49m\u001b[38;5;124;43m/home/howhang/Desktop/pfg-test-range/validation_paper/boxplot_outlier/fp_outliers_omnet.csv\u001b[39;49m\u001b[38;5;124;43m\"\u001b[39;49m\u001b[43m,\u001b[49m\u001b[43m \u001b[49m\u001b[43msep\u001b[49m\u001b[38;5;241;43m=\u001b[39;49m\u001b[38;5;124;43m\"\u001b[39;49m\u001b[38;5;130;43;01m\\t\u001b[39;49;00m\u001b[38;5;124;43m\"\u001b[39;49m\u001b[43m,\u001b[49m\u001b[43m \u001b[49m\u001b[43mindex\u001b[49m\u001b[38;5;241;43m=\u001b[39;49m\u001b[38;5;28;43;01mFalse\u001b[39;49;00m\u001b[43m)\u001b[49m\n",
      "File \u001b[0;32m~/.local/lib/python3.10/site-packages/pandas/core/generic.py:3902\u001b[0m, in \u001b[0;36mNDFrame.to_csv\u001b[0;34m(self, path_or_buf, sep, na_rep, float_format, columns, header, index, index_label, mode, encoding, compression, quoting, quotechar, lineterminator, chunksize, date_format, doublequote, escapechar, decimal, errors, storage_options)\u001b[0m\n\u001b[1;32m   3891\u001b[0m df \u001b[38;5;241m=\u001b[39m \u001b[38;5;28mself\u001b[39m \u001b[38;5;28;01mif\u001b[39;00m \u001b[38;5;28misinstance\u001b[39m(\u001b[38;5;28mself\u001b[39m, ABCDataFrame) \u001b[38;5;28;01melse\u001b[39;00m \u001b[38;5;28mself\u001b[39m\u001b[38;5;241m.\u001b[39mto_frame()\n\u001b[1;32m   3893\u001b[0m formatter \u001b[38;5;241m=\u001b[39m DataFrameFormatter(\n\u001b[1;32m   3894\u001b[0m     frame\u001b[38;5;241m=\u001b[39mdf,\n\u001b[1;32m   3895\u001b[0m     header\u001b[38;5;241m=\u001b[39mheader,\n\u001b[0;32m   (...)\u001b[0m\n\u001b[1;32m   3899\u001b[0m     decimal\u001b[38;5;241m=\u001b[39mdecimal,\n\u001b[1;32m   3900\u001b[0m )\n\u001b[0;32m-> 3902\u001b[0m \u001b[38;5;28;01mreturn\u001b[39;00m \u001b[43mDataFrameRenderer\u001b[49m\u001b[43m(\u001b[49m\u001b[43mformatter\u001b[49m\u001b[43m)\u001b[49m\u001b[38;5;241;43m.\u001b[39;49m\u001b[43mto_csv\u001b[49m\u001b[43m(\u001b[49m\n\u001b[1;32m   3903\u001b[0m \u001b[43m    \u001b[49m\u001b[43mpath_or_buf\u001b[49m\u001b[43m,\u001b[49m\n\u001b[1;32m   3904\u001b[0m \u001b[43m    \u001b[49m\u001b[43mlineterminator\u001b[49m\u001b[38;5;241;43m=\u001b[39;49m\u001b[43mlineterminator\u001b[49m\u001b[43m,\u001b[49m\n\u001b[1;32m   3905\u001b[0m \u001b[43m    \u001b[49m\u001b[43msep\u001b[49m\u001b[38;5;241;43m=\u001b[39;49m\u001b[43msep\u001b[49m\u001b[43m,\u001b[49m\n\u001b[1;32m   3906\u001b[0m \u001b[43m    \u001b[49m\u001b[43mencoding\u001b[49m\u001b[38;5;241;43m=\u001b[39;49m\u001b[43mencoding\u001b[49m\u001b[43m,\u001b[49m\n\u001b[1;32m   3907\u001b[0m \u001b[43m    \u001b[49m\u001b[43merrors\u001b[49m\u001b[38;5;241;43m=\u001b[39;49m\u001b[43merrors\u001b[49m\u001b[43m,\u001b[49m\n\u001b[1;32m   3908\u001b[0m \u001b[43m    \u001b[49m\u001b[43mcompression\u001b[49m\u001b[38;5;241;43m=\u001b[39;49m\u001b[43mcompression\u001b[49m\u001b[43m,\u001b[49m\n\u001b[1;32m   3909\u001b[0m \u001b[43m    \u001b[49m\u001b[43mquoting\u001b[49m\u001b[38;5;241;43m=\u001b[39;49m\u001b[43mquoting\u001b[49m\u001b[43m,\u001b[49m\n\u001b[1;32m   3910\u001b[0m \u001b[43m    \u001b[49m\u001b[43mcolumns\u001b[49m\u001b[38;5;241;43m=\u001b[39;49m\u001b[43mcolumns\u001b[49m\u001b[43m,\u001b[49m\n\u001b[1;32m   3911\u001b[0m \u001b[43m    \u001b[49m\u001b[43mindex_label\u001b[49m\u001b[38;5;241;43m=\u001b[39;49m\u001b[43mindex_label\u001b[49m\u001b[43m,\u001b[49m\n\u001b[1;32m   3912\u001b[0m \u001b[43m    \u001b[49m\u001b[43mmode\u001b[49m\u001b[38;5;241;43m=\u001b[39;49m\u001b[43mmode\u001b[49m\u001b[43m,\u001b[49m\n\u001b[1;32m   3913\u001b[0m \u001b[43m    \u001b[49m\u001b[43mchunksize\u001b[49m\u001b[38;5;241;43m=\u001b[39;49m\u001b[43mchunksize\u001b[49m\u001b[43m,\u001b[49m\n\u001b[1;32m   3914\u001b[0m \u001b[43m    \u001b[49m\u001b[43mquotechar\u001b[49m\u001b[38;5;241;43m=\u001b[39;49m\u001b[43mquotechar\u001b[49m\u001b[43m,\u001b[49m\n\u001b[1;32m   3915\u001b[0m \u001b[43m    \u001b[49m\u001b[43mdate_format\u001b[49m\u001b[38;5;241;43m=\u001b[39;49m\u001b[43mdate_format\u001b[49m\u001b[43m,\u001b[49m\n\u001b[1;32m   3916\u001b[0m \u001b[43m    \u001b[49m\u001b[43mdoublequote\u001b[49m\u001b[38;5;241;43m=\u001b[39;49m\u001b[43mdoublequote\u001b[49m\u001b[43m,\u001b[49m\n\u001b[1;32m   3917\u001b[0m \u001b[43m    \u001b[49m\u001b[43mescapechar\u001b[49m\u001b[38;5;241;43m=\u001b[39;49m\u001b[43mescapechar\u001b[49m\u001b[43m,\u001b[49m\n\u001b[1;32m   3918\u001b[0m \u001b[43m    \u001b[49m\u001b[43mstorage_options\u001b[49m\u001b[38;5;241;43m=\u001b[39;49m\u001b[43mstorage_options\u001b[49m\u001b[43m,\u001b[49m\n\u001b[1;32m   3919\u001b[0m \u001b[43m\u001b[49m\u001b[43m)\u001b[49m\n",
      "File \u001b[0;32m~/.local/lib/python3.10/site-packages/pandas/io/formats/format.py:1152\u001b[0m, in \u001b[0;36mDataFrameRenderer.to_csv\u001b[0;34m(self, path_or_buf, encoding, sep, columns, index_label, mode, compression, quoting, quotechar, lineterminator, chunksize, date_format, doublequote, escapechar, errors, storage_options)\u001b[0m\n\u001b[1;32m   1131\u001b[0m     created_buffer \u001b[38;5;241m=\u001b[39m \u001b[38;5;28;01mFalse\u001b[39;00m\n\u001b[1;32m   1133\u001b[0m csv_formatter \u001b[38;5;241m=\u001b[39m CSVFormatter(\n\u001b[1;32m   1134\u001b[0m     path_or_buf\u001b[38;5;241m=\u001b[39mpath_or_buf,\n\u001b[1;32m   1135\u001b[0m     lineterminator\u001b[38;5;241m=\u001b[39mlineterminator,\n\u001b[0;32m   (...)\u001b[0m\n\u001b[1;32m   1150\u001b[0m     formatter\u001b[38;5;241m=\u001b[39m\u001b[38;5;28mself\u001b[39m\u001b[38;5;241m.\u001b[39mfmt,\n\u001b[1;32m   1151\u001b[0m )\n\u001b[0;32m-> 1152\u001b[0m \u001b[43mcsv_formatter\u001b[49m\u001b[38;5;241;43m.\u001b[39;49m\u001b[43msave\u001b[49m\u001b[43m(\u001b[49m\u001b[43m)\u001b[49m\n\u001b[1;32m   1154\u001b[0m \u001b[38;5;28;01mif\u001b[39;00m created_buffer:\n\u001b[1;32m   1155\u001b[0m     \u001b[38;5;28;01massert\u001b[39;00m \u001b[38;5;28misinstance\u001b[39m(path_or_buf, StringIO)\n",
      "File \u001b[0;32m~/.local/lib/python3.10/site-packages/pandas/io/formats/csvs.py:247\u001b[0m, in \u001b[0;36mCSVFormatter.save\u001b[0;34m(self)\u001b[0m\n\u001b[1;32m    243\u001b[0m \u001b[38;5;250m\u001b[39m\u001b[38;5;124;03m\"\"\"\u001b[39;00m\n\u001b[1;32m    244\u001b[0m \u001b[38;5;124;03mCreate the writer & save.\u001b[39;00m\n\u001b[1;32m    245\u001b[0m \u001b[38;5;124;03m\"\"\"\u001b[39;00m\n\u001b[1;32m    246\u001b[0m \u001b[38;5;66;03m# apply compression and byte/text conversion\u001b[39;00m\n\u001b[0;32m--> 247\u001b[0m \u001b[38;5;28;01mwith\u001b[39;00m \u001b[43mget_handle\u001b[49m\u001b[43m(\u001b[49m\n\u001b[1;32m    248\u001b[0m \u001b[43m    \u001b[49m\u001b[38;5;28;43mself\u001b[39;49m\u001b[38;5;241;43m.\u001b[39;49m\u001b[43mfilepath_or_buffer\u001b[49m\u001b[43m,\u001b[49m\n\u001b[1;32m    249\u001b[0m \u001b[43m    \u001b[49m\u001b[38;5;28;43mself\u001b[39;49m\u001b[38;5;241;43m.\u001b[39;49m\u001b[43mmode\u001b[49m\u001b[43m,\u001b[49m\n\u001b[1;32m    250\u001b[0m \u001b[43m    \u001b[49m\u001b[43mencoding\u001b[49m\u001b[38;5;241;43m=\u001b[39;49m\u001b[38;5;28;43mself\u001b[39;49m\u001b[38;5;241;43m.\u001b[39;49m\u001b[43mencoding\u001b[49m\u001b[43m,\u001b[49m\n\u001b[1;32m    251\u001b[0m \u001b[43m    \u001b[49m\u001b[43merrors\u001b[49m\u001b[38;5;241;43m=\u001b[39;49m\u001b[38;5;28;43mself\u001b[39;49m\u001b[38;5;241;43m.\u001b[39;49m\u001b[43merrors\u001b[49m\u001b[43m,\u001b[49m\n\u001b[1;32m    252\u001b[0m \u001b[43m    \u001b[49m\u001b[43mcompression\u001b[49m\u001b[38;5;241;43m=\u001b[39;49m\u001b[38;5;28;43mself\u001b[39;49m\u001b[38;5;241;43m.\u001b[39;49m\u001b[43mcompression\u001b[49m\u001b[43m,\u001b[49m\n\u001b[1;32m    253\u001b[0m \u001b[43m    \u001b[49m\u001b[43mstorage_options\u001b[49m\u001b[38;5;241;43m=\u001b[39;49m\u001b[38;5;28;43mself\u001b[39;49m\u001b[38;5;241;43m.\u001b[39;49m\u001b[43mstorage_options\u001b[49m\u001b[43m,\u001b[49m\n\u001b[1;32m    254\u001b[0m \u001b[43m\u001b[49m\u001b[43m)\u001b[49m \u001b[38;5;28;01mas\u001b[39;00m handles:\n\u001b[1;32m    255\u001b[0m     \u001b[38;5;66;03m# Note: self.encoding is irrelevant here\u001b[39;00m\n\u001b[1;32m    256\u001b[0m     \u001b[38;5;28mself\u001b[39m\u001b[38;5;241m.\u001b[39mwriter \u001b[38;5;241m=\u001b[39m csvlib\u001b[38;5;241m.\u001b[39mwriter(\n\u001b[1;32m    257\u001b[0m         handles\u001b[38;5;241m.\u001b[39mhandle,\n\u001b[1;32m    258\u001b[0m         lineterminator\u001b[38;5;241m=\u001b[39m\u001b[38;5;28mself\u001b[39m\u001b[38;5;241m.\u001b[39mlineterminator,\n\u001b[0;32m   (...)\u001b[0m\n\u001b[1;32m    263\u001b[0m         quotechar\u001b[38;5;241m=\u001b[39m\u001b[38;5;28mself\u001b[39m\u001b[38;5;241m.\u001b[39mquotechar,\n\u001b[1;32m    264\u001b[0m     )\n\u001b[1;32m    266\u001b[0m     \u001b[38;5;28mself\u001b[39m\u001b[38;5;241m.\u001b[39m_save()\n",
      "File \u001b[0;32m~/.local/lib/python3.10/site-packages/pandas/io/common.py:739\u001b[0m, in \u001b[0;36mget_handle\u001b[0;34m(path_or_buf, mode, encoding, compression, memory_map, is_text, errors, storage_options)\u001b[0m\n\u001b[1;32m    737\u001b[0m \u001b[38;5;66;03m# Only for write methods\u001b[39;00m\n\u001b[1;32m    738\u001b[0m \u001b[38;5;28;01mif\u001b[39;00m \u001b[38;5;124m\"\u001b[39m\u001b[38;5;124mr\u001b[39m\u001b[38;5;124m\"\u001b[39m \u001b[38;5;129;01mnot\u001b[39;00m \u001b[38;5;129;01min\u001b[39;00m mode \u001b[38;5;129;01mand\u001b[39;00m is_path:\n\u001b[0;32m--> 739\u001b[0m     \u001b[43mcheck_parent_directory\u001b[49m\u001b[43m(\u001b[49m\u001b[38;5;28;43mstr\u001b[39;49m\u001b[43m(\u001b[49m\u001b[43mhandle\u001b[49m\u001b[43m)\u001b[49m\u001b[43m)\u001b[49m\n\u001b[1;32m    741\u001b[0m \u001b[38;5;28;01mif\u001b[39;00m compression:\n\u001b[1;32m    742\u001b[0m     \u001b[38;5;28;01mif\u001b[39;00m compression \u001b[38;5;241m!=\u001b[39m \u001b[38;5;124m\"\u001b[39m\u001b[38;5;124mzstd\u001b[39m\u001b[38;5;124m\"\u001b[39m:\n\u001b[1;32m    743\u001b[0m         \u001b[38;5;66;03m# compression libraries do not like an explicit text-mode\u001b[39;00m\n",
      "File \u001b[0;32m~/.local/lib/python3.10/site-packages/pandas/io/common.py:604\u001b[0m, in \u001b[0;36mcheck_parent_directory\u001b[0;34m(path)\u001b[0m\n\u001b[1;32m    602\u001b[0m parent \u001b[38;5;241m=\u001b[39m Path(path)\u001b[38;5;241m.\u001b[39mparent\n\u001b[1;32m    603\u001b[0m \u001b[38;5;28;01mif\u001b[39;00m \u001b[38;5;129;01mnot\u001b[39;00m parent\u001b[38;5;241m.\u001b[39mis_dir():\n\u001b[0;32m--> 604\u001b[0m     \u001b[38;5;28;01mraise\u001b[39;00m \u001b[38;5;167;01mOSError\u001b[39;00m(\u001b[38;5;124mrf\u001b[39m\u001b[38;5;124m\"\u001b[39m\u001b[38;5;124mCannot save file into a non-existent directory: \u001b[39m\u001b[38;5;124m'\u001b[39m\u001b[38;5;132;01m{\u001b[39;00mparent\u001b[38;5;132;01m}\u001b[39;00m\u001b[38;5;124m'\u001b[39m\u001b[38;5;124m\"\u001b[39m)\n",
      "\u001b[0;31mOSError\u001b[0m: Cannot save file into a non-existent directory: '/home/howhang/Desktop/pfg-test-range/validation_paper/boxplot_outlier'"
     ]
    }
   ],
   "source": [
    "from matplotlib.cbook import boxplot_stats\n",
    "from pandas import read_csv, concat, cut, DataFrame\n",
    "dfs = {}\n",
    "\n",
    "for arch, config in CONFIGURATION.items():\n",
    "    dfs[arch] = {}\n",
    "    for qos, pcap in config.items():\n",
    "        input_path = \"{}/{}\".format(SOURCE_PATH_ROOT, pcap)\n",
    "        output_path = \"{}/{}/{}\".format(OUTPUT_PATH_ROOT, arch, qos)\n",
    "        pp = TsnParsePcap(path=input_path,\n",
    "                          mapping=mapping,\n",
    "                          output_path=output_path,\n",
    "                          omnet_ts = True\n",
    "                         )\n",
    "        pp.pcap_to_dfs()\n",
    "        d = pp.get_dfs()\n",
    "        dfs[arch][qos] = d[0]\n",
    "\n",
    "fp = []\n",
    "counter = 0\n",
    "\n",
    "qos = [\"A\",\n",
    "       \"B\",\n",
    "       \"C\",\n",
    "       \"D\",\n",
    "       \"E\",\n",
    "       \"F\"]\n",
    "\n",
    "arch = [\"OMNeT++\"]\n",
    "        #,\"SIM\"]\n",
    "\n",
    "for q in qos:\n",
    "    for a in arch:\n",
    "        print(\"QoS: {}, Arch: {}\".format(q, a))\n",
    "        df = dfs[a][q][\"Latency (ns)\"].astype(int)\n",
    "        s = boxplot_stats(df.values)[0]\n",
    "        fp.append(DataFrame(s['fliers'].tolist(), columns=[\"Outlier-{}\".format(counter)]))\n",
    "        print(\"Outlier-{}\".format(counter))\n",
    "        print(\"lower whisker={},\".format(s['whislo']*10**-6))\n",
    "        print(\"lower quartile={},\".format(s['q1']*10**-6))\n",
    "        print(\"median={},\".format(s['med']*10**-6))\n",
    "        print(\"upper quartile={},\".format(s['q3']*10**-6))\n",
    "        print(\"upper whisker={}\\n\".format(s['whishi']*10**-6))\n",
    "        counter += 1\n",
    "\n",
    "outliers_df = concat(fp, axis=1)\n",
    "outliers_df = outliers_df * 10 ** -6\n",
    "outliers_df.to_csv(\"/home/howhang/Desktop/pgf-test-range/validation/boxplot_outlier/fp_outliers_omnet.csv\", sep=\"\\t\", index=False)"
   ]
  }
 ],
 "metadata": {
  "kernelspec": {
   "display_name": "Python 3 (ipykernel)",
   "language": "python",
   "name": "python3"
  },
  "language_info": {
   "codemirror_mode": {
    "name": "ipython",
    "version": 3
   },
   "file_extension": ".py",
   "mimetype": "text/x-python",
   "name": "python",
   "nbconvert_exporter": "python",
   "pygments_lexer": "ipython3",
   "version": "3.10.12"
  }
 },
 "nbformat": 4,
 "nbformat_minor": 5
}
